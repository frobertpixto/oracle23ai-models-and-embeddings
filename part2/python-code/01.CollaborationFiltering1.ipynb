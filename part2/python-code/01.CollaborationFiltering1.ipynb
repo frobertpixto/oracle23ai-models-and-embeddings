{
 "cells": [
  {
   "cell_type": "markdown",
   "id": "761fd728-b45c-4c9e-80a4-a26872a6798e",
   "metadata": {},
   "source": [
    "# Collaborative Filtering recommender model using full 32M Movieslens Dataset\n",
    "- Using Tensorflow\n",
    "- Model is then saved in ONNX format"
   ]
  },
  {
   "cell_type": "code",
   "execution_count": 1,
   "id": "initial_id",
   "metadata": {
    "ExecuteTime": {
     "end_time": "2025-06-18T15:35:09.723607Z",
     "start_time": "2025-06-18T15:35:09.720725Z"
    }
   },
   "outputs": [],
   "source": [
    "import pandas as pd\n",
    "import os\n",
    "from pathlib import Path\n",
    "\n",
    "# TensorFlow\n",
    "from tf_keras.models import Model, load_model\n",
    "from tf_keras.layers import Input, Embedding, Dot, Reshape, Dropout\n",
    "from tf_keras.optimizers import Adam\n",
    "from tf_keras.optimizers.legacy import Adam  # For mac M1/M2\n",
    "from tf_keras.callbacks import ModelCheckpoint, ReduceLROnPlateau\n",
    "\n",
    "from sklearn.model_selection import train_test_split\n",
    "import matplotlib.pyplot as plt\n"
   ]
  },
  {
   "cell_type": "code",
   "execution_count": 2,
   "id": "6ddf6d74c0852232",
   "metadata": {
    "ExecuteTime": {
     "end_time": "2025-06-18T15:35:09.753778Z",
     "start_time": "2025-06-18T15:35:09.751963Z"
    }
   },
   "outputs": [
    {
     "name": "stdout",
     "output_type": "stream",
     "text": [
      "3.11.12\n"
     ]
    }
   ],
   "source": [
    "from platform import python_version\n",
    "print(python_version())"
   ]
  },
  {
   "cell_type": "code",
   "execution_count": 3,
   "id": "1b11c30be8e9c142",
   "metadata": {
    "ExecuteTime": {
     "end_time": "2025-06-18T15:35:09.786128Z",
     "start_time": "2025-06-18T15:35:09.784330Z"
    }
   },
   "outputs": [
    {
     "name": "stdout",
     "output_type": "stream",
     "text": [
      "2.16.2\n"
     ]
    }
   ],
   "source": [
    "import tensorflow as tf\n",
    "print(tf.__version__)"
   ]
  },
  {
   "cell_type": "code",
   "execution_count": 4,
   "id": "fde4269c0e738d60",
   "metadata": {
    "ExecuteTime": {
     "end_time": "2025-06-18T15:35:09.819333Z",
     "start_time": "2025-06-18T15:35:09.817281Z"
    }
   },
   "outputs": [],
   "source": [
    "BASEDIR = \"..\"\n",
    "MODEL_DIR      = os.path.join(BASEDIR, \"saved_models\")\n",
    "model_filename = os.path.join(MODEL_DIR, \"collaboration_filter.01.keras\")\n",
    "\n",
    "# Create Model directory\n",
    "Path(MODEL_DIR).mkdir(parents=True, exist_ok=True)"
   ]
  },
  {
   "cell_type": "code",
   "execution_count": 5,
   "id": "12691a7244923666",
   "metadata": {
    "ExecuteTime": {
     "end_time": "2025-06-18T15:35:09.849568Z",
     "start_time": "2025-06-18T15:35:09.847540Z"
    }
   },
   "outputs": [],
   "source": [
    "movielens_dataset = \"full\" # \"full\" #\"small\""
   ]
  },
  {
   "cell_type": "markdown",
   "id": "41707560-2cc6-4299-8345-ff4a3e10e57d",
   "metadata": {},
   "source": [
    "## Step 1.1: Load the Dataset (ratings.csv)\n",
    "The full dataset has more than 32 million ratings"
   ]
  },
  {
   "cell_type": "code",
   "execution_count": 6,
   "id": "ac94dda68a153d9f",
   "metadata": {
    "ExecuteTime": {
     "end_time": "2025-06-18T15:35:14.540083Z",
     "start_time": "2025-06-18T15:35:09.876960Z"
    }
   },
   "outputs": [
    {
     "name": "stdout",
     "output_type": "stream",
     "text": [
      "Loading ratings.csv...\n",
      "Loaded 32000204 ratings.\n"
     ]
    }
   ],
   "source": [
    "print(\"Loading ratings.csv...\")\n",
    "try:\n",
    "    df_ratings = pd.read_csv(f'../../movielens_data/{movielens_dataset}/ratings.csv')\n",
    "    print(f\"Loaded {len(df_ratings)} ratings.\")\n",
    "except FileNotFoundError:\n",
    "    print(\"Error: ratings.csv not found. Please place it in the same directory.\")\n",
    "    exit()"
   ]
  },
  {
   "cell_type": "markdown",
   "id": "4e458923-98ca-4493-a675-2d008b71c0d8",
   "metadata": {},
   "source": [
    "## Step 1.2: Create Mappings for User and Movie IDs \n",
    "We need to convert the arbitrary user and movie IDs into a continuous 0-based index."
   ]
  },
  {
   "cell_type": "code",
   "execution_count": 7,
   "id": "79bf5e915b6c069b",
   "metadata": {
    "ExecuteTime": {
     "end_time": "2025-06-18T15:35:14.804687Z",
     "start_time": "2025-06-18T15:35:14.572221Z"
    }
   },
   "outputs": [
    {
     "name": "stdout",
     "output_type": "stream",
     "text": [
      "\n",
      "Created user and movie ID mappings.\n",
      "User map sample: {1: 0, 2: 1, 3: 2, 4: 3, 5: 4}\n",
      "Movie map sample: {17: 0, 25: 1, 29: 2, 30: 3, 32: 4}\n"
     ]
    }
   ],
   "source": [
    "# Get all unique user and movie IDs\n",
    "unique_user_ids = df_ratings['userId'].unique()\n",
    "unique_movie_ids = df_ratings['movieId'].unique()\n",
    "\n",
    "# Create a mapping from userId to a new 0-based index (user_idx)\n",
    "user_map = {id: i for i, id in enumerate(unique_user_ids)}\n",
    "# Create a mapping from movieId to a new 0-based index (movie_idx)\n",
    "movie_map = {id: i for i, id in enumerate(unique_movie_ids)}\n",
    "\n",
    "print(\"\\nCreated user and movie ID mappings.\")\n",
    "# Example: See what the first few user IDs map to\n",
    "print(\"User map sample:\", {k: user_map[k] for k in list(user_map)[:5]})\n",
    "# Example: See what the first few movies IDs map to\n",
    "print(\"Movie map sample:\", {k: movie_map[k] for k in list(movie_map)[:5]})"
   ]
  },
  {
   "cell_type": "markdown",
   "id": "f371077b-d357-41db-9218-83a5277187ba",
   "metadata": {},
   "source": [
    "## Step 1.3: Apply Mappings to the DataFrame"
   ]
  },
  {
   "cell_type": "code",
   "execution_count": 8,
   "id": "f1678722b5b9ba09",
   "metadata": {
    "ExecuteTime": {
     "end_time": "2025-06-18T15:35:15.391200Z",
     "start_time": "2025-06-18T15:35:14.809259Z"
    }
   },
   "outputs": [
    {
     "name": "stdout",
     "output_type": "stream",
     "text": [
      "Applied mappings to create new 'user_idx' and 'movie_idx' columns.\n",
      "\n",
      "DataFrame head with new index columns:\n",
      "   userId  movieId  rating  timestamp  user_idx  movie_idx\n",
      "0       1       17     4.0  944249077         0          0\n",
      "1       1       25     1.0  944250228         0          1\n",
      "2       1       29     2.0  943230976         0          2\n",
      "3       1       30     5.0  944249077         0          3\n",
      "4       1       32     5.0  943228858         0          4\n"
     ]
    }
   ],
   "source": [
    "# Create new columns in the DataFrame that contain the 0-based indices.\n",
    "df_ratings['user_idx'] = df_ratings['userId'].map(user_map)\n",
    "df_ratings['movie_idx'] = df_ratings['movieId'].map(movie_map)\n",
    "\n",
    "print(\"Applied mappings to create new 'user_idx' and 'movie_idx' columns.\")\n",
    "print(\"\\nDataFrame head with new index columns:\")\n",
    "print(df_ratings.head())"
   ]
  },
  {
   "cell_type": "markdown",
   "id": "4d95bb5b-1a2d-48fe-af2b-78dfdb16bce7",
   "metadata": {},
   "source": [
    "## Step 1.4: Prepare the Final Data for TensorFlow\n",
    "We now have everything we need to create our input and output arrays for the model."
   ]
  },
  {
   "cell_type": "code",
   "execution_count": 9,
   "id": "74ee2a5619cb0f25",
   "metadata": {
    "ExecuteTime": {
     "end_time": "2025-06-18T15:35:15.463498Z",
     "start_time": "2025-06-18T15:35:15.447159Z"
    }
   },
   "outputs": [
    {
     "name": "stdout",
     "output_type": "stream",
     "text": [
      "\n",
      "Total unique users: 200948\n",
      "Total unique movies: 84432\n",
      "\n",
      "Data is now prepared for TensorFlow model training.\n",
      "Shape of x[0] (user_idx): (32000204,)\n",
      "Shape of x[1] (movie_idx): (32000204,)\n",
      "Shape of y (ratings): (32000204,)\n"
     ]
    }
   ],
   "source": [
    "# Get the total number of unique users and movies. This is our \"vocabulary size\".\n",
    "num_users = len(user_map)\n",
    "num_movies = len(movie_map)\n",
    "print(f\"\\nTotal unique users: {num_users}\")\n",
    "print(f\"Total unique movies: {num_movies}\")\n",
    "\n",
    "# Prepare the input 'x' (a list of two arrays: user indices and movie indices)\n",
    "x = [df_ratings['user_idx'].values, df_ratings['movie_idx'].values]\n",
    "\n",
    "# Prepare the output 'y' (the ratings)\n",
    "y = df_ratings['rating'].values\n",
    "\n",
    "print(\"\\nData is now prepared for TensorFlow model training.\")\n",
    "print(f\"Shape of x[0] (user_idx): {x[0].shape}\")\n",
    "print(f\"Shape of x[1] (movie_idx): {x[1].shape}\")\n",
    "print(f\"Shape of y (ratings): {y.shape}\")"
   ]
  },
  {
   "cell_type": "markdown",
   "id": "b5c7be59-2bd4-4332-bfd6-9a56be1fbd20",
   "metadata": {},
   "source": [
    "## Step 2.1: Define Model Hyper-parameters"
   ]
  },
  {
   "cell_type": "code",
   "execution_count": 10,
   "id": "98f0d67a8b4d2895",
   "metadata": {
    "ExecuteTime": {
     "end_time": "2025-06-18T15:35:15.494206Z",
     "start_time": "2025-06-18T15:35:15.492411Z"
    }
   },
   "outputs": [],
   "source": [
    "# Let's define the size of our embedding vectors.\n",
    "# This is a key parameter to tune. It also directly impact the size of the model\n",
    "EMBEDDING_DIM = 64\n",
    "\n",
    "DROPOUT = 0.15\n",
    "\n",
    "LEARNING_RATE = 0.0014\n",
    "\n",
    "BATCH_SIZE = 16384\n",
    "\n",
    "EPOCH = 60"
   ]
  },
  {
   "cell_type": "markdown",
   "id": "593b6f73-add5-4370-9cff-52b924933df4",
   "metadata": {},
   "source": [
    "## Step 2.2: Define the Model Architecture using Keras Functional API"
   ]
  },
  {
   "cell_type": "code",
   "execution_count": 11,
   "id": "93bd40d5667a4839",
   "metadata": {
    "ExecuteTime": {
     "end_time": "2025-06-18T15:35:15.543090Z",
     "start_time": "2025-06-18T15:35:15.522229Z"
    }
   },
   "outputs": [
    {
     "name": "stderr",
     "output_type": "stream",
     "text": [
      "2025-07-01 17:41:57.829381: I metal_plugin/src/device/metal_device.cc:1154] Metal device set to: Apple M1 Max\n",
      "2025-07-01 17:41:57.829410: I metal_plugin/src/device/metal_device.cc:296] systemMemory: 64.00 GB\n",
      "2025-07-01 17:41:57.829415: I metal_plugin/src/device/metal_device.cc:313] maxCacheSize: 24.00 GB\n",
      "2025-07-01 17:41:57.829432: I tensorflow/core/common_runtime/pluggable_device/pluggable_device_factory.cc:305] Could not identify NUMA node of platform GPU ID 0, defaulting to 0. Your kernel may not have been built with NUMA support.\n",
      "2025-07-01 17:41:57.829441: I tensorflow/core/common_runtime/pluggable_device/pluggable_device_factory.cc:271] Created TensorFlow device (/job:localhost/replica:0/task:0/device:GPU:0 with 0 MB memory) -> physical PluggableDevice (device: 0, name: METAL, pci bus id: <undefined>)\n"
     ]
    }
   ],
   "source": [
    "# Define the input layers for user and movie indices\n",
    "user_input = Input(shape=(1,), name='user_input')\n",
    "movie_input = Input(shape=(1,), name='movie_input')\n",
    "\n",
    "# --- User Pathway ---\n",
    "# 1. User Embedding Layer: Turns the user index into a dense vector\n",
    "user_embedding = Embedding(input_dim=num_users,\n",
    "                           output_dim=EMBEDDING_DIM,\n",
    "                           name='user_embedding')(user_input)\n",
    "# 2. Reshape the embedding to remove the extra dimension\n",
    "user_vector = Reshape((EMBEDDING_DIM,), name='user_vector')(user_embedding)\n",
    "user_vector = Dropout(DROPOUT, name='user_dropout')(user_vector)\n",
    "\n",
    "# --- Movie Pathway ---\n",
    "# 1. Movie Embedding Layer: Turns the movie index into a dense vector\n",
    "movie_embedding = Embedding(input_dim=num_movies,\n",
    "                            output_dim=EMBEDDING_DIM,\n",
    "                            name='movie_embedding')(movie_input)\n",
    "# 2. Reshape the embedding to remove the extra dimension\n",
    "movie_vector = Reshape((EMBEDDING_DIM,), name='movie_vector')(movie_embedding)\n",
    "movie_vector = Dropout(DROPOUT, name='movie_dropout')(movie_vector)\n",
    "\n",
    "\n",
    "# --- Combine the pathways ---\n",
    "# Use a Dot product to calculate the core interaction between user and movie vectors\n",
    "dot_product = Dot(axes=1, name='dot_product')([user_vector, movie_vector])\n",
    "\n",
    "\n",
    "# --- Create and Compile the Model ---\n",
    "# The model takes the user and movie inputs and outputs the dot product result\n",
    "model = Model(inputs=[user_input, movie_input], outputs=dot_product)"
   ]
  },
  {
   "cell_type": "code",
   "execution_count": 12,
   "id": "72f1e00b0ac187e7",
   "metadata": {
    "ExecuteTime": {
     "end_time": "2025-06-18T15:35:15.624194Z",
     "start_time": "2025-06-18T15:35:15.571929Z"
    }
   },
   "outputs": [],
   "source": [
    "# Compile the model with an optimizer and a loss function\n",
    "model.compile(optimizer=Adam(learning_rate=LEARNING_RATE),\n",
    "              loss='mean_squared_error')"
   ]
  },
  {
   "cell_type": "markdown",
   "id": "0f50499c-76d0-4070-a169-248a71afb3cc",
   "metadata": {},
   "source": [
    "## Step 2.3: Display the Model Summary\n",
    "This gives a nice overview of the model architecture and number of parameters."
   ]
  },
  {
   "cell_type": "code",
   "execution_count": 13,
   "id": "65c29f692deef2d3",
   "metadata": {
    "ExecuteTime": {
     "end_time": "2025-06-18T15:35:15.666528Z",
     "start_time": "2025-06-18T15:35:15.657598Z"
    }
   },
   "outputs": [
    {
     "name": "stdout",
     "output_type": "stream",
     "text": [
      "Model: \"model\"\n",
      "__________________________________________________________________________________________________\n",
      " Layer (type)                Output Shape                 Param #   Connected to                  \n",
      "==================================================================================================\n",
      " user_input (InputLayer)     [(None, 1)]                  0         []                            \n",
      "                                                                                                  \n",
      " movie_input (InputLayer)    [(None, 1)]                  0         []                            \n",
      "                                                                                                  \n",
      " user_embedding (Embedding)  (None, 1, 64)                1286067   ['user_input[0][0]']          \n",
      "                                                          2                                       \n",
      "                                                                                                  \n",
      " movie_embedding (Embedding  (None, 1, 64)                5403648   ['movie_input[0][0]']         \n",
      " )                                                                                                \n",
      "                                                                                                  \n",
      " user_vector (Reshape)       (None, 64)                   0         ['user_embedding[0][0]']      \n",
      "                                                                                                  \n",
      " movie_vector (Reshape)      (None, 64)                   0         ['movie_embedding[0][0]']     \n",
      "                                                                                                  \n",
      " user_dropout (Dropout)      (None, 64)                   0         ['user_vector[0][0]']         \n",
      "                                                                                                  \n",
      " movie_dropout (Dropout)     (None, 64)                   0         ['movie_vector[0][0]']        \n",
      "                                                                                                  \n",
      " dot_product (Dot)           (None, 1)                    0         ['user_dropout[0][0]',        \n",
      "                                                                     'movie_dropout[0][0]']       \n",
      "                                                                                                  \n",
      "==================================================================================================\n",
      "Total params: 18264320 (69.67 MB)\n",
      "Trainable params: 18264320 (69.67 MB)\n",
      "Non-trainable params: 0 (0.00 Byte)\n",
      "__________________________________________________________________________________________________\n"
     ]
    }
   ],
   "source": [
    "model.summary()"
   ]
  },
  {
   "cell_type": "markdown",
   "id": "c08afa2f-bb83-4ebc-8ad7-a34fca43d5da",
   "metadata": {},
   "source": [
    "### Note on Model size\n",
    "**18 millions parameters** is small compared to a llama 70 billions parameters.\n",
    "But it is very big compared to the 4 models I used in my app [Mix on Pix](https://apps.apple.com/us/app/mix-on-pix-text-on-photos/id633281586). \n",
    "They had 0.5 millions parameters each (but they run locally on an iPhone)."
   ]
  },
  {
   "cell_type": "code",
   "execution_count": 14,
   "id": "bb6d71ba94bcad8f",
   "metadata": {
    "ExecuteTime": {
     "end_time": "2025-06-18T15:35:15.708613Z",
     "start_time": "2025-06-18T15:35:15.706492Z"
    }
   },
   "outputs": [],
   "source": [
    "# when running for many epochs, the reduction must be very slow.\n",
    "learning_rate_reduction = ReduceLROnPlateau(monitor='val_loss',\n",
    "                                            patience=2,\n",
    "                                            verbose=1,\n",
    "                                            factor=0.70,\n",
    "                                            mode='min',\n",
    "                                            min_delta=0.000001,\n",
    "                                            min_lr=0.0000001)"
   ]
  },
  {
   "cell_type": "code",
   "execution_count": 15,
   "id": "fe48a1ecd91682b9",
   "metadata": {
    "ExecuteTime": {
     "end_time": "2025-06-18T15:35:15.738136Z",
     "start_time": "2025-06-18T15:35:15.736314Z"
    }
   },
   "outputs": [],
   "source": [
    "# Save the Best model\n",
    "checkpoint = ModelCheckpoint(model_filename, monitor='val_loss', verbose=1, save_best_only=True)\n",
    "\n",
    "callbacks_list = [checkpoint, learning_rate_reduction]"
   ]
  },
  {
   "cell_type": "markdown",
   "id": "ac517ff5-3c78-42fa-aef6-d19474391735",
   "metadata": {},
   "source": [
    "## Step 3.1: Create Training and Validation Sets"
   ]
  },
  {
   "cell_type": "code",
   "execution_count": 16,
   "id": "22c19face70c7ecb",
   "metadata": {
    "ExecuteTime": {
     "end_time": "2025-06-18T16:29:53.265627Z",
     "start_time": "2025-06-18T15:35:15.765324Z"
    }
   },
   "outputs": [
    {
     "name": "stdout",
     "output_type": "stream",
     "text": [
      "Data split into training and validation sets:\n",
      "Training samples: 28800183\n",
      "Validation samples: 3200021\n"
     ]
    }
   ],
   "source": [
    "# We use scikit-learn's train_test_split to randomly shuffle and split our data.\n",
    "# We'll use 90% for training and 10% for validation.\n",
    "(train_users, val_users,\n",
    " train_movies, val_movies,\n",
    " train_ratings, val_ratings) = train_test_split(x[0], x[1], y, test_size=0.1, random_state=42)\n",
    "\n",
    "print(\"Data split into training and validation sets:\")\n",
    "print(f\"Training samples: {len(train_users)}\")\n",
    "print(f\"Validation samples: {len(val_users)}\")"
   ]
  },
  {
   "cell_type": "markdown",
   "id": "5fe85615-9e1c-4883-9604-3c5ff96e26c7",
   "metadata": {},
   "source": [
    "## Step 3.2: Train the Model"
   ]
  },
  {
   "cell_type": "code",
   "execution_count": 17,
   "id": "1c35f99c-34f8-4904-b50a-4a0864db441d",
   "metadata": {},
   "outputs": [
    {
     "name": "stdout",
     "output_type": "stream",
     "text": [
      "\n",
      "Starting model training...\n",
      "Epoch 1/60\n"
     ]
    },
    {
     "name": "stderr",
     "output_type": "stream",
     "text": [
      "2025-07-01 17:42:06.308948: I tensorflow/core/grappler/optimizers/custom_graph_optimizer_registry.cc:117] Plugin optimizer for device_type GPU is enabled.\n"
     ]
    },
    {
     "name": "stdout",
     "output_type": "stream",
     "text": [
      "1758/1758 [==============================] - ETA: 0s - loss: 3.3391\n",
      "Epoch 1: val_loss improved from inf to 0.81515, saving model to ../saved_models/collaboration_filter.01.keras\n",
      "1758/1758 [==============================] - 48s 23ms/step - loss: 3.3391 - val_loss: 0.8151 - lr: 0.0014\n",
      "Epoch 2/60\n",
      "1758/1758 [==============================] - ETA: 0s - loss: 0.8531\n",
      "Epoch 2: val_loss improved from 0.81515 to 0.72816, saving model to ../saved_models/collaboration_filter.01.keras\n",
      "1758/1758 [==============================] - 36s 21ms/step - loss: 0.8531 - val_loss: 0.7282 - lr: 0.0014\n",
      "Epoch 3/60\n",
      "1758/1758 [==============================] - ETA: 0s - loss: 0.7969\n",
      "Epoch 3: val_loss improved from 0.72816 to 0.69338, saving model to ../saved_models/collaboration_filter.01.keras\n",
      "1758/1758 [==============================] - 36s 20ms/step - loss: 0.7969 - val_loss: 0.6934 - lr: 0.0014\n",
      "Epoch 4/60\n",
      "1758/1758 [==============================] - ETA: 0s - loss: 0.7659\n",
      "Epoch 4: val_loss improved from 0.69338 to 0.66966, saving model to ../saved_models/collaboration_filter.01.keras\n",
      "1758/1758 [==============================] - 36s 20ms/step - loss: 0.7659 - val_loss: 0.6697 - lr: 0.0014\n",
      "Epoch 5/60\n",
      "1758/1758 [==============================] - ETA: 0s - loss: 0.7437\n",
      "Epoch 5: val_loss improved from 0.66966 to 0.65320, saving model to ../saved_models/collaboration_filter.01.keras\n",
      "1758/1758 [==============================] - 36s 20ms/step - loss: 0.7437 - val_loss: 0.6532 - lr: 0.0014\n",
      "Epoch 6/60\n",
      "1758/1758 [==============================] - ETA: 0s - loss: 0.7264\n",
      "Epoch 6: val_loss improved from 0.65320 to 0.64088, saving model to ../saved_models/collaboration_filter.01.keras\n",
      "1758/1758 [==============================] - 36s 20ms/step - loss: 0.7264 - val_loss: 0.6409 - lr: 0.0014\n",
      "Epoch 7/60\n",
      "1758/1758 [==============================] - ETA: 0s - loss: 0.7128\n",
      "Epoch 7: val_loss improved from 0.64088 to 0.63192, saving model to ../saved_models/collaboration_filter.01.keras\n",
      "1758/1758 [==============================] - 36s 20ms/step - loss: 0.7128 - val_loss: 0.6319 - lr: 0.0014\n",
      "Epoch 8/60\n",
      "1758/1758 [==============================] - ETA: 0s - loss: 0.7014\n",
      "Epoch 8: val_loss improved from 0.63192 to 0.62539, saving model to ../saved_models/collaboration_filter.01.keras\n",
      "1758/1758 [==============================] - 36s 20ms/step - loss: 0.7014 - val_loss: 0.6254 - lr: 0.0014\n",
      "Epoch 9/60\n",
      "1758/1758 [==============================] - ETA: 0s - loss: 0.6917\n",
      "Epoch 9: val_loss improved from 0.62539 to 0.62021, saving model to ../saved_models/collaboration_filter.01.keras\n",
      "1758/1758 [==============================] - 36s 20ms/step - loss: 0.6917 - val_loss: 0.6202 - lr: 0.0014\n",
      "Epoch 10/60\n",
      "1758/1758 [==============================] - ETA: 0s - loss: 0.6833\n",
      "Epoch 10: val_loss improved from 0.62021 to 0.61606, saving model to ../saved_models/collaboration_filter.01.keras\n",
      "1758/1758 [==============================] - 36s 21ms/step - loss: 0.6833 - val_loss: 0.6161 - lr: 0.0014\n",
      "Epoch 11/60\n",
      "1758/1758 [==============================] - ETA: 0s - loss: 0.6759\n",
      "Epoch 11: val_loss improved from 0.61606 to 0.61277, saving model to ../saved_models/collaboration_filter.01.keras\n",
      "1758/1758 [==============================] - 36s 20ms/step - loss: 0.6759 - val_loss: 0.6128 - lr: 0.0014\n",
      "Epoch 12/60\n",
      "1758/1758 [==============================] - ETA: 0s - loss: 0.6693\n",
      "Epoch 12: val_loss improved from 0.61277 to 0.61070, saving model to ../saved_models/collaboration_filter.01.keras\n",
      "1758/1758 [==============================] - 36s 20ms/step - loss: 0.6693 - val_loss: 0.6107 - lr: 0.0014\n",
      "Epoch 13/60\n",
      "1758/1758 [==============================] - ETA: 0s - loss: 0.6638\n",
      "Epoch 13: val_loss improved from 0.61070 to 0.60864, saving model to ../saved_models/collaboration_filter.01.keras\n",
      "1758/1758 [==============================] - 35s 20ms/step - loss: 0.6638 - val_loss: 0.6086 - lr: 0.0014\n",
      "Epoch 14/60\n",
      "1758/1758 [==============================] - ETA: 0s - loss: 0.6590\n",
      "Epoch 14: val_loss improved from 0.60864 to 0.60727, saving model to ../saved_models/collaboration_filter.01.keras\n",
      "1758/1758 [==============================] - 36s 20ms/step - loss: 0.6590 - val_loss: 0.6073 - lr: 0.0014\n",
      "Epoch 15/60\n",
      "1758/1758 [==============================] - ETA: 0s - loss: 0.6546\n",
      "Epoch 15: val_loss improved from 0.60727 to 0.60608, saving model to ../saved_models/collaboration_filter.01.keras\n",
      "1758/1758 [==============================] - 35s 20ms/step - loss: 0.6546 - val_loss: 0.6061 - lr: 0.0014\n",
      "Epoch 16/60\n",
      "1758/1758 [==============================] - ETA: 0s - loss: 0.6507\n",
      "Epoch 16: val_loss improved from 0.60608 to 0.60535, saving model to ../saved_models/collaboration_filter.01.keras\n",
      "1758/1758 [==============================] - 35s 20ms/step - loss: 0.6507 - val_loss: 0.6053 - lr: 0.0014\n",
      "Epoch 17/60\n",
      "1757/1758 [============================>.] - ETA: 0s - loss: 0.6474\n",
      "Epoch 17: val_loss improved from 0.60535 to 0.60428, saving model to ../saved_models/collaboration_filter.01.keras\n",
      "1758/1758 [==============================] - 35s 20ms/step - loss: 0.6474 - val_loss: 0.6043 - lr: 0.0014\n",
      "Epoch 18/60\n",
      "1758/1758 [==============================] - ETA: 0s - loss: 0.6443\n",
      "Epoch 18: val_loss improved from 0.60428 to 0.60379, saving model to ../saved_models/collaboration_filter.01.keras\n",
      "1758/1758 [==============================] - 36s 20ms/step - loss: 0.6443 - val_loss: 0.6038 - lr: 0.0014\n",
      "Epoch 19/60\n",
      "1758/1758 [==============================] - ETA: 0s - loss: 0.6420\n",
      "Epoch 19: val_loss improved from 0.60379 to 0.60332, saving model to ../saved_models/collaboration_filter.01.keras\n",
      "1758/1758 [==============================] - 35s 20ms/step - loss: 0.6420 - val_loss: 0.6033 - lr: 0.0014\n",
      "Epoch 20/60\n",
      "1758/1758 [==============================] - ETA: 0s - loss: 0.6396\n",
      "Epoch 20: val_loss improved from 0.60332 to 0.60326, saving model to ../saved_models/collaboration_filter.01.keras\n",
      "1758/1758 [==============================] - 35s 20ms/step - loss: 0.6396 - val_loss: 0.6033 - lr: 0.0014\n",
      "Epoch 21/60\n",
      "1758/1758 [==============================] - ETA: 0s - loss: 0.6375\n",
      "Epoch 21: val_loss improved from 0.60326 to 0.60289, saving model to ../saved_models/collaboration_filter.01.keras\n",
      "1758/1758 [==============================] - 35s 20ms/step - loss: 0.6375 - val_loss: 0.6029 - lr: 0.0014\n",
      "Epoch 22/60\n",
      "1758/1758 [==============================] - ETA: 0s - loss: 0.6359\n",
      "Epoch 22: val_loss improved from 0.60289 to 0.60254, saving model to ../saved_models/collaboration_filter.01.keras\n",
      "1758/1758 [==============================] - 36s 20ms/step - loss: 0.6359 - val_loss: 0.6025 - lr: 0.0014\n",
      "Epoch 23/60\n",
      "1758/1758 [==============================] - ETA: 0s - loss: 0.6341\n",
      "Epoch 23: val_loss improved from 0.60254 to 0.60214, saving model to ../saved_models/collaboration_filter.01.keras\n",
      "1758/1758 [==============================] - 35s 20ms/step - loss: 0.6341 - val_loss: 0.6021 - lr: 0.0014\n",
      "Epoch 24/60\n",
      "1758/1758 [==============================] - ETA: 0s - loss: 0.6324\n",
      "Epoch 24: val_loss improved from 0.60214 to 0.60156, saving model to ../saved_models/collaboration_filter.01.keras\n",
      "1758/1758 [==============================] - 35s 20ms/step - loss: 0.6324 - val_loss: 0.6016 - lr: 0.0014\n",
      "Epoch 25/60\n",
      "1758/1758 [==============================] - ETA: 0s - loss: 0.6315\n",
      "Epoch 25: val_loss did not improve from 0.60156\n",
      "1758/1758 [==============================] - 36s 20ms/step - loss: 0.6315 - val_loss: 0.6017 - lr: 0.0014\n",
      "Epoch 26/60\n",
      "1758/1758 [==============================] - ETA: 0s - loss: 0.6302\n",
      "Epoch 26: val_loss did not improve from 0.60156\n",
      "\n",
      "Epoch 26: ReduceLROnPlateau reducing learning rate to 0.000979999965056777.\n",
      "1758/1758 [==============================] - 35s 20ms/step - loss: 0.6302 - val_loss: 0.6018 - lr: 0.0014\n",
      "Epoch 27/60\n",
      "1758/1758 [==============================] - ETA: 0s - loss: 0.6189\n",
      "Epoch 27: val_loss improved from 0.60156 to 0.59431, saving model to ../saved_models/collaboration_filter.01.keras\n",
      "1758/1758 [==============================] - 35s 20ms/step - loss: 0.6189 - val_loss: 0.5943 - lr: 9.8000e-04\n",
      "Epoch 28/60\n",
      "1758/1758 [==============================] - ETA: 0s - loss: 0.6162\n",
      "Epoch 28: val_loss improved from 0.59431 to 0.59368, saving model to ../saved_models/collaboration_filter.01.keras\n",
      "1758/1758 [==============================] - 35s 20ms/step - loss: 0.6162 - val_loss: 0.5937 - lr: 9.8000e-04\n",
      "Epoch 29/60\n",
      "1758/1758 [==============================] - ETA: 0s - loss: 0.6149\n",
      "Epoch 29: val_loss improved from 0.59368 to 0.59348, saving model to ../saved_models/collaboration_filter.01.keras\n",
      "1758/1758 [==============================] - 35s 20ms/step - loss: 0.6149 - val_loss: 0.5935 - lr: 9.8000e-04\n",
      "Epoch 30/60\n",
      "1758/1758 [==============================] - ETA: 0s - loss: 0.6137\n",
      "Epoch 30: val_loss improved from 0.59348 to 0.59339, saving model to ../saved_models/collaboration_filter.01.keras\n",
      "1758/1758 [==============================] - 35s 20ms/step - loss: 0.6137 - val_loss: 0.5934 - lr: 9.8000e-04\n",
      "Epoch 31/60\n",
      "1758/1758 [==============================] - ETA: 0s - loss: 0.6129\n",
      "Epoch 31: val_loss improved from 0.59339 to 0.59315, saving model to ../saved_models/collaboration_filter.01.keras\n",
      "1758/1758 [==============================] - 36s 20ms/step - loss: 0.6129 - val_loss: 0.5931 - lr: 9.8000e-04\n",
      "Epoch 32/60\n",
      "1758/1758 [==============================] - ETA: 0s - loss: 0.6121\n",
      "Epoch 32: val_loss improved from 0.59315 to 0.59304, saving model to ../saved_models/collaboration_filter.01.keras\n",
      "1758/1758 [==============================] - 35s 20ms/step - loss: 0.6121 - val_loss: 0.5930 - lr: 9.8000e-04\n",
      "Epoch 33/60\n",
      "1756/1758 [============================>.] - ETA: 0s - loss: 0.6114\n",
      "Epoch 33: val_loss improved from 0.59304 to 0.59296, saving model to ../saved_models/collaboration_filter.01.keras\n",
      "1758/1758 [==============================] - 35s 20ms/step - loss: 0.6114 - val_loss: 0.5930 - lr: 9.8000e-04\n",
      "Epoch 34/60\n",
      "1758/1758 [==============================] - ETA: 0s - loss: 0.6111\n",
      "Epoch 34: val_loss did not improve from 0.59296\n",
      "1758/1758 [==============================] - 35s 20ms/step - loss: 0.6111 - val_loss: 0.5930 - lr: 9.8000e-04\n",
      "Epoch 35/60\n",
      "1756/1758 [============================>.] - ETA: 0s - loss: 0.6100\n",
      "Epoch 35: val_loss improved from 0.59296 to 0.59272, saving model to ../saved_models/collaboration_filter.01.keras\n",
      "1758/1758 [==============================] - 35s 20ms/step - loss: 0.6100 - val_loss: 0.5927 - lr: 9.8000e-04\n",
      "Epoch 36/60\n",
      "1758/1758 [==============================] - ETA: 0s - loss: 0.6099\n",
      "Epoch 36: val_loss improved from 0.59272 to 0.59253, saving model to ../saved_models/collaboration_filter.01.keras\n",
      "1758/1758 [==============================] - 35s 20ms/step - loss: 0.6099 - val_loss: 0.5925 - lr: 9.8000e-04\n",
      "Epoch 37/60\n",
      "1758/1758 [==============================] - ETA: 0s - loss: 0.6094\n",
      "Epoch 37: val_loss did not improve from 0.59253\n",
      "1758/1758 [==============================] - 35s 20ms/step - loss: 0.6094 - val_loss: 0.5925 - lr: 9.8000e-04\n",
      "Epoch 38/60\n",
      "1758/1758 [==============================] - ETA: 0s - loss: 0.6088\n",
      "Epoch 38: val_loss did not improve from 0.59253\n",
      "\n",
      "Epoch 38: ReduceLROnPlateau reducing learning rate to 0.0006860000081360339.\n",
      "1758/1758 [==============================] - 35s 20ms/step - loss: 0.6088 - val_loss: 0.5926 - lr: 9.8000e-04\n",
      "Epoch 39/60\n",
      "1758/1758 [==============================] - ETA: 0s - loss: 0.6016\n",
      "Epoch 39: val_loss improved from 0.59253 to 0.58800, saving model to ../saved_models/collaboration_filter.01.keras\n",
      "1758/1758 [==============================] - 35s 20ms/step - loss: 0.6016 - val_loss: 0.5880 - lr: 6.8600e-04\n",
      "Epoch 40/60\n",
      "1758/1758 [==============================] - ETA: 0s - loss: 0.6003\n",
      "Epoch 40: val_loss improved from 0.58800 to 0.58782, saving model to ../saved_models/collaboration_filter.01.keras\n",
      "1758/1758 [==============================] - 35s 20ms/step - loss: 0.6003 - val_loss: 0.5878 - lr: 6.8600e-04\n",
      "Epoch 41/60\n",
      "1758/1758 [==============================] - ETA: 0s - loss: 0.5993\n",
      "Epoch 41: val_loss improved from 0.58782 to 0.58756, saving model to ../saved_models/collaboration_filter.01.keras\n",
      "1758/1758 [==============================] - 35s 20ms/step - loss: 0.5993 - val_loss: 0.5876 - lr: 6.8600e-04\n",
      "Epoch 42/60\n",
      "1758/1758 [==============================] - ETA: 0s - loss: 0.5989\n",
      "Epoch 42: val_loss improved from 0.58756 to 0.58739, saving model to ../saved_models/collaboration_filter.01.keras\n",
      "1758/1758 [==============================] - 35s 20ms/step - loss: 0.5989 - val_loss: 0.5874 - lr: 6.8600e-04\n",
      "Epoch 43/60\n",
      "1758/1758 [==============================] - ETA: 0s - loss: 0.5984\n",
      "Epoch 43: val_loss improved from 0.58739 to 0.58705, saving model to ../saved_models/collaboration_filter.01.keras\n",
      "1758/1758 [==============================] - 35s 20ms/step - loss: 0.5984 - val_loss: 0.5871 - lr: 6.8600e-04\n",
      "Epoch 44/60\n",
      "1758/1758 [==============================] - ETA: 0s - loss: 0.5980\n",
      "Epoch 44: val_loss did not improve from 0.58705\n",
      "1758/1758 [==============================] - 35s 20ms/step - loss: 0.5980 - val_loss: 0.5872 - lr: 6.8600e-04\n",
      "Epoch 45/60\n",
      "1758/1758 [==============================] - ETA: 0s - loss: 0.5976\n",
      "Epoch 45: val_loss did not improve from 0.58705\n",
      "\n",
      "Epoch 45: ReduceLROnPlateau reducing learning rate to 0.0004801999893970787.\n",
      "1758/1758 [==============================] - 35s 20ms/step - loss: 0.5976 - val_loss: 0.5871 - lr: 6.8600e-04\n",
      "Epoch 46/60\n",
      "1758/1758 [==============================] - ETA: 0s - loss: 0.5928\n",
      "Epoch 46: val_loss improved from 0.58705 to 0.58421, saving model to ../saved_models/collaboration_filter.01.keras\n",
      "1758/1758 [==============================] - 35s 20ms/step - loss: 0.5928 - val_loss: 0.5842 - lr: 4.8020e-04\n",
      "Epoch 47/60\n",
      "1758/1758 [==============================] - ETA: 0s - loss: 0.5916\n",
      "Epoch 47: val_loss improved from 0.58421 to 0.58385, saving model to ../saved_models/collaboration_filter.01.keras\n",
      "1758/1758 [==============================] - 35s 20ms/step - loss: 0.5916 - val_loss: 0.5838 - lr: 4.8020e-04\n",
      "Epoch 48/60\n",
      "1758/1758 [==============================] - ETA: 0s - loss: 0.5913\n",
      "Epoch 48: val_loss did not improve from 0.58385\n",
      "1758/1758 [==============================] - 35s 20ms/step - loss: 0.5913 - val_loss: 0.5840 - lr: 4.8020e-04\n",
      "Epoch 49/60\n",
      "1758/1758 [==============================] - ETA: 0s - loss: 0.5909\n",
      "Epoch 49: val_loss improved from 0.58385 to 0.58379, saving model to ../saved_models/collaboration_filter.01.keras\n",
      "1758/1758 [==============================] - 35s 20ms/step - loss: 0.5909 - val_loss: 0.5838 - lr: 4.8020e-04\n",
      "Epoch 50/60\n",
      "1758/1758 [==============================] - ETA: 0s - loss: 0.5904\n",
      "Epoch 50: val_loss improved from 0.58379 to 0.58361, saving model to ../saved_models/collaboration_filter.01.keras\n",
      "1758/1758 [==============================] - 35s 20ms/step - loss: 0.5904 - val_loss: 0.5836 - lr: 4.8020e-04\n",
      "Epoch 51/60\n",
      "1758/1758 [==============================] - ETA: 0s - loss: 0.5904\n",
      "Epoch 51: val_loss improved from 0.58361 to 0.58352, saving model to ../saved_models/collaboration_filter.01.keras\n",
      "1758/1758 [==============================] - 35s 20ms/step - loss: 0.5904 - val_loss: 0.5835 - lr: 4.8020e-04\n",
      "Epoch 52/60\n",
      "1758/1758 [==============================] - ETA: 0s - loss: 0.5900\n",
      "Epoch 52: val_loss improved from 0.58352 to 0.58344, saving model to ../saved_models/collaboration_filter.01.keras\n",
      "1758/1758 [==============================] - 35s 20ms/step - loss: 0.5900 - val_loss: 0.5834 - lr: 4.8020e-04\n",
      "Epoch 53/60\n",
      "1758/1758 [==============================] - ETA: 0s - loss: 0.5897\n",
      "Epoch 53: val_loss improved from 0.58344 to 0.58340, saving model to ../saved_models/collaboration_filter.01.keras\n",
      "1758/1758 [==============================] - 35s 20ms/step - loss: 0.5897 - val_loss: 0.5834 - lr: 4.8020e-04\n",
      "Epoch 54/60\n",
      "1758/1758 [==============================] - ETA: 0s - loss: 0.5895\n",
      "Epoch 54: val_loss did not improve from 0.58340\n",
      "1758/1758 [==============================] - 35s 20ms/step - loss: 0.5895 - val_loss: 0.5834 - lr: 4.8020e-04\n",
      "Epoch 55/60\n",
      "1756/1758 [============================>.] - ETA: 0s - loss: 0.5891\n",
      "Epoch 55: val_loss did not improve from 0.58340\n",
      "\n",
      "Epoch 55: ReduceLROnPlateau reducing learning rate to 0.0003361399925779551.\n",
      "1758/1758 [==============================] - 35s 20ms/step - loss: 0.5891 - val_loss: 0.5834 - lr: 4.8020e-04\n",
      "Epoch 56/60\n",
      "1758/1758 [==============================] - ETA: 0s - loss: 0.5858\n",
      "Epoch 56: val_loss improved from 0.58340 to 0.58145, saving model to ../saved_models/collaboration_filter.01.keras\n",
      "1758/1758 [==============================] - 35s 20ms/step - loss: 0.5858 - val_loss: 0.5814 - lr: 3.3614e-04\n",
      "Epoch 57/60\n",
      "1758/1758 [==============================] - ETA: 0s - loss: 0.5854\n",
      "Epoch 57: val_loss improved from 0.58145 to 0.58125, saving model to ../saved_models/collaboration_filter.01.keras\n",
      "1758/1758 [==============================] - 35s 20ms/step - loss: 0.5854 - val_loss: 0.5812 - lr: 3.3614e-04\n",
      "Epoch 58/60\n",
      "1758/1758 [==============================] - ETA: 0s - loss: 0.5849\n",
      "Epoch 58: val_loss did not improve from 0.58125\n",
      "1758/1758 [==============================] - 35s 20ms/step - loss: 0.5849 - val_loss: 0.5813 - lr: 3.3614e-04\n",
      "Epoch 59/60\n",
      "1758/1758 [==============================] - ETA: 0s - loss: 0.5847\n",
      "Epoch 59: val_loss improved from 0.58125 to 0.58117, saving model to ../saved_models/collaboration_filter.01.keras\n",
      "1758/1758 [==============================] - 35s 20ms/step - loss: 0.5847 - val_loss: 0.5812 - lr: 3.3614e-04\n",
      "Epoch 60/60\n",
      "1758/1758 [==============================] - ETA: 0s - loss: 0.5845\n",
      "Epoch 60: val_loss improved from 0.58117 to 0.58097, saving model to ../saved_models/collaboration_filter.01.keras\n",
      "1758/1758 [==============================] - 35s 20ms/step - loss: 0.5845 - val_loss: 0.5810 - lr: 3.3614e-04\n",
      "Model training complete.\n"
     ]
    }
   ],
   "source": [
    "# Now we call model.fit() to start the training process.\n",
    "print(\"\\nStarting model training...\")\n",
    "history = model.fit(\n",
    "    # Input data for training\n",
    "    x=[train_users, train_movies],\n",
    "    # Target data for training\n",
    "    y=train_ratings,\n",
    "    # Number of samples per gradient update\n",
    "    batch_size=BATCH_SIZE,  \n",
    "    # Number of times to iterate over the entire training dataset\n",
    "    epochs=EPOCH,\n",
    "    # Display training progress\n",
    "    verbose=1,\n",
    "    # Data to evaluate the model on at the end of each epoch\n",
    "    validation_data=([val_users, val_movies], val_ratings),\n",
    "    callbacks=callbacks_list\n",
    ")\n",
    "print(\"Model training complete.\")"
   ]
  },
  {
   "cell_type": "markdown",
   "id": "4705cec2-d836-4219-b990-688623b936bf",
   "metadata": {},
   "source": [
    "## Step 3.3: Visualize Training History"
   ]
  },
  {
   "cell_type": "code",
   "execution_count": 18,
   "id": "7318c52914574db6",
   "metadata": {
    "ExecuteTime": {
     "end_time": "2025-06-18T16:29:53.372659Z",
     "start_time": "2025-06-18T16:29:53.313506Z"
    }
   },
   "outputs": [
    {
     "data": {
      "image/png": "[encoded data removed]",
      "text/plain": [
       "<Figure size 640x480 with 1 Axes>"
      ]
     },
     "metadata": {},
     "output_type": "display_data"
    }
   ],
   "source": [
    "# The 'history' object contains the loss values from training.\n",
    "# We can plot them to see how the model learned over time.\n",
    "plt.plot(history.history['loss'], label='Training Loss')\n",
    "plt.plot(history.history['val_loss'], label='Validation Loss')\n",
    "plt.title('Model Loss Over Epochs - Log scale')\n",
    "plt.ylabel('Loss (Mean Squared Error)')\n",
    "plt.yscale(\"log\")\n",
    "plt.xlabel('Epoch')\n",
    "plt.legend()\n",
    "plt.grid(True)\n",
    "plt.show()"
   ]
  },
  {
   "cell_type": "code",
   "execution_count": 19,
   "id": "750f7f33dd5b0cdb",
   "metadata": {
    "ExecuteTime": {
     "end_time": "2025-06-18T16:29:53.836741Z",
     "start_time": "2025-06-18T16:29:53.403095Z"
    }
   },
   "outputs": [],
   "source": [
    "# Delete the existing model\n",
    "del model\n",
    "\n",
    "# Load last saved model\n",
    "model = load_model(model_filename)"
   ]
  },
  {
   "cell_type": "code",
   "execution_count": 20,
   "id": "de78b2f8df39f9eb",
   "metadata": {
    "ExecuteTime": {
     "end_time": "2025-06-18T16:29:53.873222Z",
     "start_time": "2025-06-18T16:29:53.864660Z"
    }
   },
   "outputs": [
    {
     "name": "stdout",
     "output_type": "stream",
     "text": [
      "Shape of our learned movie embedding matrix: (84432, 64)\n"
     ]
    }
   ],
   "source": [
    "# 'model' is our trained Keras model\n",
    "# We get the layer by its name, then get its learned weights.\n",
    "# get_weights() returns a list, the first item is the embedding matrix.\n",
    "movie_embedding_matrix = model.get_layer('movie_embedding').get_weights()[0]\n",
    "\n",
    "print(f\"Shape of our learned movie embedding matrix: {movie_embedding_matrix.shape}\")"
   ]
  },
  {
   "cell_type": "code",
   "execution_count": 21,
   "id": "464cb21f7924a5cd",
   "metadata": {
    "ExecuteTime": {
     "end_time": "2025-06-18T16:29:54.064241Z",
     "start_time": "2025-06-18T16:29:53.901123Z"
    }
   },
   "outputs": [],
   "source": [
    "from sklearn.metrics.pairwise import cosine_similarity\n",
    "\n",
    "# We need the mappings from our data prep step to go from title -> ID -> index\n",
    "# user_map, movie_map\n",
    "# We also need a reverse mapping from index back to title\n",
    "# Let's create a DataFrame with movie titles and their learned indices\n",
    "df_movies = pd.read_csv(f'../../movielens_data/{movielens_dataset}/movies.csv')\n",
    "df_movies['movie_idx'] = df_movies['movieId'].map(movie_map)\n",
    "# Drop movies that were not in our ratings dataset\n",
    "df_movies = df_movies.dropna(subset=['movie_idx'])\n",
    "df_movies['movie_idx'] = df_movies['movie_idx'].astype(int)\n",
    "\n",
    "# Create the reverse map from index to title\n",
    "idx_to_title = df_movies.set_index('movie_idx')['title'].to_dict()"
   ]
  },
  {
   "cell_type": "code",
   "execution_count": 22,
   "id": "42885eeec2cc61a7",
   "metadata": {
    "ExecuteTime": {
     "end_time": "2025-06-18T16:29:54.102620Z",
     "start_time": "2025-06-18T16:29:54.099326Z"
    }
   },
   "outputs": [],
   "source": [
    "def find_similar_movies(movie_title, top_n=10):\n",
    "    \"\"\"\n",
    "    Finds movies similar to a given movie using the learned embeddings.\n",
    "    \"\"\"\n",
    "    try:\n",
    "        # 1. Get the movie_idx for the given title\n",
    "        movie_idx = df_movies[df_movies['title'] == movie_title]['movie_idx'].iloc[0]\n",
    "\n",
    "        # 2. Get the embedding vector for that movie\n",
    "        movie_vector = movie_embedding_matrix[movie_idx]\n",
    "\n",
    "        # 3. Calculate cosine similarity between that vector and all others\n",
    "        # We reshape our vector to (1, EMBEDDING_DIM) to make it a 2D array\n",
    "        sim_scores = cosine_similarity(movie_vector.reshape(1, -1), movie_embedding_matrix)\n",
    "\n",
    "        # 4. Get the similarity scores for all movies and sort them\n",
    "        # sim_scores is a 2D array, so we take the first row\n",
    "        sim_scores = list(enumerate(sim_scores[0]))\n",
    "        sim_scores = sorted(sim_scores, key=lambda x: x[1], reverse=True)\n",
    "\n",
    "        # 5. Get the top N results, excluding the movie itself\n",
    "        top_similar_movies = [\n",
    "            (idx_to_title.get(i, \"Unknown\"), score)\n",
    "            for i, score in sim_scores[1:top_n + 1]\n",
    "        ]\n",
    "\n",
    "        print(f\"Top {top_n} movies similar to '{movie_title}':\")\n",
    "        for title, score in top_similar_movies:\n",
    "            print(f\"  - {title} (Similarity: {score:.4f})\")\n",
    "\n",
    "    except IndexError:\n",
    "        print(f\"Movie '{movie_title}' not found in the dataset.\")"
   ]
  },
  {
   "cell_type": "code",
   "execution_count": 23,
   "id": "21b278d65e40693f",
   "metadata": {
    "ExecuteTime": {
     "end_time": "2025-06-18T16:29:54.466575Z",
     "start_time": "2025-06-18T16:29:54.138813Z"
    }
   },
   "outputs": [
    {
     "name": "stdout",
     "output_type": "stream",
     "text": [
      "Top 10 movies similar to 'Apocalypse Now (1979)':\n",
      "  - Taxi Driver (1976) (Similarity: 0.9375)\n",
      "  - Full Metal Jacket (1987) (Similarity: 0.9316)\n",
      "  - Deer Hunter, The (1978) (Similarity: 0.9226)\n",
      "  - Raging Bull (1980) (Similarity: 0.9062)\n",
      "  - Chinatown (1974) (Similarity: 0.9013)\n",
      "  - Platoon (1986) (Similarity: 0.8915)\n",
      "  - Mariupolis (2016) (Similarity: 0.8914)\n",
      "  - Modus Operandi (2010) (Similarity: 0.8877)\n",
      "  - My Best Friend's Famous (2019) (Similarity: 0.8849)\n",
      "  - No Country for Old Men (2007) (Similarity: 0.8763)\n",
      "------------------------------\n",
      "Top 10 movies similar to 'Arrival (2016)':\n",
      "  - Ex Machina (2015) (Similarity: 0.9000)\n",
      "  - Moon (2009) (Similarity: 0.8620)\n",
      "  - LIFE BEYOND: Chapter 2. The Museum of Alien Life (2020) (Similarity: 0.8548)\n",
      "  - Pornography: A Secret History of Civilisation (1999) (Similarity: 0.8531)\n",
      "  - Coherence (2013) (Similarity: 0.8520)\n",
      "  - The Martian (2015) (Similarity: 0.8514)\n",
      "  - Annihilation (2018) (Similarity: 0.8511)\n",
      "  - Crimes Against Humanity (2017) (Similarity: 0.8510)\n",
      "  - One I Love, The (2014) (Similarity: 0.8504)\n",
      "  - Mully (2015) (Similarity: 0.8474)\n",
      "------------------------------\n",
      "Top 10 movies similar to 'Inception (2010)':\n",
      "  - Prestige, The (2006) (Similarity: 0.8982)\n",
      "  - Interstellar (2014) (Similarity: 0.8943)\n",
      "  - Shutter Island (2010) (Similarity: 0.8841)\n",
      "  - Join or Die (2023) (Similarity: 0.8667)\n",
      "  - Guilty Conscience (1985) (Similarity: 0.8542)\n",
      "  - Rascals on the Road (2006) (Similarity: 0.8506)\n",
      "  - Departed, The (2006) (Similarity: 0.8502)\n",
      "  - The Penalty (1941) (Similarity: 0.8490)\n",
      "  - Catch Me If You Can (2002) (Similarity: 0.8482)\n",
      "  - Memento (2000) (Similarity: 0.8470)\n",
      "------------------------------\n",
      "Top 10 movies similar to 'My Life as a Dog (Mitt liv som hund) (1985)':\n",
      "  - Breaking Away (1979) (Similarity: 0.8569)\n",
      "  - The Race to Alaska (2020) (Similarity: 0.8562)\n",
      "  - Saturday Morning Mystery (2012) (Similarity: 0.8515)\n",
      "  - My Brother's Keeper (2014) (Similarity: 0.8511)\n",
      "  - Head-On (Gegen die Wand) (2004) (Similarity: 0.8496)\n",
      "  - The Magnitude of All Things (2020) (Similarity: 0.8486)\n",
      "  - Eat Drink Man Woman (Yin shi nan nu) (1994) (Similarity: 0.8484)\n",
      "  - Megan (2020) (Similarity: 0.8479)\n",
      "  - Waltz with Bashir (Vals im Bashir) (2008) (Similarity: 0.8465)\n",
      "  - Attention danger travail (2003) (Similarity: 0.8427)\n",
      "------------------------------\n",
      "Top 10 movies similar to 'Other Guys, The (2010)':\n",
      "  - Talladega Nights: The Ballad of Ricky Bobby (2006) (Similarity: 0.8890)\n",
      "  - Role Models (2008) (Similarity: 0.8745)\n",
      "  - Campaign, The (2012) (Similarity: 0.8685)\n",
      "  - Dodgeball: A True Underdog Story (2004) (Similarity: 0.8660)\n",
      "  - 21 Jump Street (2012) (Similarity: 0.8613)\n",
      "  - Due Date (2010) (Similarity: 0.8584)\n",
      "  - Horrible Bosses (2011) (Similarity: 0.8575)\n",
      "  - 22 Jump Street (2014) (Similarity: 0.8508)\n",
      "  - Tropic Thunder (2008) (Similarity: 0.8480)\n",
      "  - Step Brothers (2008) (Similarity: 0.8403)\n",
      "------------------------------\n"
     ]
    }
   ],
   "source": [
    "# --- Let's test it! ---\n",
    "find_similar_movies('Apocalypse Now (1979)')\n",
    "print(\"-\" * 30)\n",
    "find_similar_movies('Arrival (2016)')\n",
    "print(\"-\" * 30)\n",
    "find_similar_movies('Inception (2010)')\n",
    "print(\"-\" * 30)\n",
    "find_similar_movies('My Life as a Dog (Mitt liv som hund) (1985)')\n",
    "print(\"-\" * 30)\n",
    "find_similar_movies('Other Guys, The (2010)')\n",
    "print(\"-\" * 30)"
   ]
  },
  {
   "cell_type": "code",
   "execution_count": 24,
   "id": "ca7edb1064fc5e88",
   "metadata": {
    "ExecuteTime": {
     "end_time": "2025-06-18T16:29:54.588475Z",
     "start_time": "2025-06-18T16:29:54.567279Z"
    }
   },
   "outputs": [
    {
     "name": "stdout",
     "output_type": "stream",
     "text": [
      "Top 10 movies similar to 'Toy Story (1995)':\n",
      "  - Toy Story 2 (1999) (Similarity: 0.9840)\n",
      "  - Toy Story 3 (2010) (Similarity: 0.9478)\n",
      "  - Monsters, Inc. (2001) (Similarity: 0.9352)\n",
      "  - Finding Nemo (2003) (Similarity: 0.9252)\n",
      "  - Bug's Life, A (1998) (Similarity: 0.9225)\n",
      "  - Incredibles, The (2004) (Similarity: 0.9064)\n",
      "  - Iron Giant, The (1999) (Similarity: 0.8575)\n",
      "  - Up (2009) (Similarity: 0.8526)\n",
      "  - Toy Story 4 (2019) (Similarity: 0.8508)\n",
      "  - Wreck-It Ralph (2012) (Similarity: 0.8503)\n",
      "------------------------------\n",
      "Top 10 movies similar to 'Parenthood (1989)':\n",
      "  - Mr. Mom (1983) (Similarity: 0.8905)\n",
      "  - Stand by Me (1986) (Similarity: 0.8730)\n",
      "  - Big (1988) (Similarity: 0.8717)\n",
      "  - Midnight Run (1988) (Similarity: 0.8703)\n",
      "  - No Way Out (1987) (Similarity: 0.8668)\n",
      "  - Biloxi Blues (1988) (Similarity: 0.8623)\n",
      "  - Moonlight Sonata: Deafness in Three Movements (2019) (Similarity: 0.8612)\n",
      "  - Trading Places (1983) (Similarity: 0.8582)\n",
      "  - Lady Beware (1987) (Similarity: 0.8572)\n",
      "  - Homeless: The Motel Kids of Orange County (2010) (Similarity: 0.8566)\n",
      "------------------------------\n",
      "Top 10 movies similar to 'Eyes Wide Shut (1999)':\n",
      "  - Barry Lyndon (1975) (Similarity: 0.8168)\n",
      "  - The Case of the Lucky Legs (1935) (Similarity: 0.7934)\n",
      "  - The Young Observant (2020) (Similarity: 0.7907)\n",
      "  - Mulholland Drive (2001) (Similarity: 0.7870)\n",
      "  - Lost Highway (1997) (Similarity: 0.7807)\n",
      "  - Mulholland Dr. (1999) (Similarity: 0.7804)\n",
      "  - Happy Hour (2015) (Similarity: 0.7801)\n",
      "  - Study of a River (1997) (Similarity: 0.7759)\n",
      "  - The Laughing Man (1966) (Similarity: 0.7722)\n",
      "  - The Animation Show, Volume 1 (2003) (Similarity: 0.7715)\n",
      "------------------------------\n",
      "Top 10 movies similar to 'Thirteenth Floor, The (1999)':\n",
      "  - 10th & Wolf (2006) (Similarity: 0.8437)\n",
      "  - Valley of the Wolves: Palestine (2011) (Similarity: 0.8092)\n",
      "  - Gattaca (1997) (Similarity: 0.8082)\n",
      "  - Paycheck (2003) (Similarity: 0.8075)\n",
      "  - Another Woman (2019) (Similarity: 0.8041)\n",
      "  - Fly (2021) (Similarity: 0.8017)\n",
      "  - Sofia the First: Once Upon a Princess (2012) (Similarity: 0.8011)\n",
      "  - The Diam Diam Era (2020) (Similarity: 0.7974)\n",
      "  - İstanbul Beneath My Wings (1996) (Similarity: 0.7942)\n",
      "  - Impostor (2002) (Similarity: 0.7940)\n",
      "------------------------------\n",
      "Top 10 movies similar to 'Little Miss Sunshine (2006)':\n",
      "  - Juno (2007) (Similarity: 0.9018)\n",
      "  - The Swimmers (2014) (Similarity: 0.8894)\n",
      "  - Station Agent, The (2003) (Similarity: 0.8784)\n",
      "  - Lars and the Real Girl (2007) (Similarity: 0.8780)\n",
      "  - The Playbirds (1978) (Similarity: 0.8775)\n",
      "  - Dunkles, rätselhaftes Österreich (Similarity: 0.8753)\n",
      "  - Away We Go (2009) (Similarity: 0.8722)\n",
      "  - Good bye, Lenin! (2003) (Similarity: 0.8698)\n",
      "  - Human (2013) (Similarity: 0.8595)\n",
      "  - Education, An (2009) (Similarity: 0.8567)\n",
      "------------------------------\n",
      "Top 10 movies similar to 'Finding Nemo (2003)':\n",
      "  - Monsters, Inc. (2001) (Similarity: 0.9783)\n",
      "  - Incredibles, The (2004) (Similarity: 0.9376)\n",
      "  - Bug's Life, A (1998) (Similarity: 0.9279)\n",
      "  - Ratatouille (2007) (Similarity: 0.9267)\n",
      "  - Up (2009) (Similarity: 0.9264)\n",
      "  - Toy Story (1995) (Similarity: 0.9252)\n",
      "  - Toy Story 2 (1999) (Similarity: 0.9195)\n",
      "  - Toy Story 3 (2010) (Similarity: 0.9097)\n",
      "  - Monsters University (2013) (Similarity: 0.8784)\n",
      "  - Shrek (2001) (Similarity: 0.8783)\n",
      "------------------------------\n",
      "Top 10 movies similar to 'Wild (2016)':\n",
      "  - Wedding in Galilee (1988) (Similarity: 0.9150)\n",
      "  - Jadoo (2013) (Similarity: 0.8952)\n",
      "  - The Invention of Love (2013) (Similarity: 0.8882)\n",
      "  - Hey... Stop Stabbing Me! (2003) (Similarity: 0.8865)\n",
      "  - Cirque du Soleil: Saltimbanco (1997) (Similarity: 0.8860)\n",
      "  - Die Bettwurst (1971) (Similarity: 0.8859)\n",
      "  - Bruges-La-Morte (1978) (Similarity: 0.8835)\n",
      "  - Judge Fayard Called the Sheriff (1977) (Similarity: 0.8821)\n",
      "  - Alien Girl (2010) (Similarity: 0.8814)\n",
      "  - The Legend of the Red Lantern (1970) (Similarity: 0.8795)\n",
      "------------------------------\n",
      "Top 10 movies similar to 'Hidden Figures (2016)':\n",
      "  - Help, The (2011) (Similarity: 0.9192)\n",
      "  - On the Basis of Sex (2018) (Similarity: 0.8921)\n",
      "  - Woman in Gold (2015) (Similarity: 0.8779)\n",
      "  - The Theory of Everything (2014) (Similarity: 0.8760)\n",
      "  - The Imitation Game (2014) (Similarity: 0.8747)\n",
      "  - Sully (2016) (Similarity: 0.8745)\n",
      "  - Invictus (2009) (Similarity: 0.8701)\n",
      "  - Lion (2016) (Similarity: 0.8694)\n",
      "  - Just Mercy (2019) (Similarity: 0.8676)\n",
      "  - Still Alice (2014) (Similarity: 0.8652)\n",
      "------------------------------\n",
      "Top 10 movies similar to 'Before Midnight (2013)':\n",
      "  - Before Sunset (2004) (Similarity: 0.9572)\n",
      "  - Before Sunrise (1995) (Similarity: 0.9443)\n",
      "  - Death of a Father (2017) (Similarity: 0.8430)\n",
      "  - Forgotten Plague (2016) (Similarity: 0.8371)\n",
      "  - Bert Rigby, You're a Fool (1989) (Similarity: 0.8320)\n",
      "  - Scenes From a Marriage (Scener ur ett äktenskap) (1973) (Similarity: 0.8312)\n",
      "  - Hunt, The (Jagten) (2012) (Similarity: 0.8309)\n",
      "  - The Guard from the Underground (1992) (Similarity: 0.8280)\n",
      "  - My Uncle Hyacinth (1956) (Similarity: 0.8276)\n",
      "  - Diving Bell and the Butterfly, The (Scaphandre et le papillon, Le) (2007) (Similarity: 0.8275)\n",
      "------------------------------\n",
      "Top 10 movies similar to 'Begin Again (2013)':\n",
      "  - Shoot To Marry (2020) (Similarity: 0.8854)\n",
      "  - The Wedding Trip (2021) (Similarity: 0.8812)\n",
      "  - Memory Hackers (2016) (Similarity: 0.8812)\n",
      "  - The Fundamentals of Caring (2016) (Similarity: 0.8803)\n",
      "  - A Night at the Kindergarten (2022) (Similarity: 0.8801)\n",
      "  - Chef (2014) (Similarity: 0.8794)\n",
      "  - Whip It (2009) (Similarity: 0.8791)\n",
      "  - In His Chart (2011) (Similarity: 0.8781)\n",
      "  - Sparrow (1993) (Similarity: 0.8762)\n",
      "  - The Devotion of Suspect X (2017) (2017) (Similarity: 0.8734)\n",
      "------------------------------\n"
     ]
    }
   ],
   "source": [
    "# --- More tests ---\n",
    "find_similar_movies('Toy Story (1995)')\n",
    "print(\"-\" * 30)\n",
    "find_similar_movies('Parenthood (1989)')\n",
    "print(\"-\" * 30)\n",
    "find_similar_movies('Eyes Wide Shut (1999)')\n",
    "print(\"-\" * 30)\n",
    "find_similar_movies('Thirteenth Floor, The (1999)')\n",
    "print(\"-\" * 30)\n",
    "find_similar_movies('Little Miss Sunshine (2006)')\n",
    "print(\"-\" * 30)\n",
    "find_similar_movies('Finding Nemo (2003)')\n",
    "print(\"-\" * 30)\n",
    "find_similar_movies('Wild (2016)')\n",
    "print(\"-\" * 30)\n",
    "find_similar_movies('Hidden Figures (2016)')\n",
    "print(\"-\" * 30)\n",
    "find_similar_movies('Before Midnight (2013)')\n",
    "print(\"-\" * 30)\n",
    "find_similar_movies('Begin Again (2013)')\n",
    "print(\"-\" * 30)"
   ]
  },
  {
   "cell_type": "markdown",
   "id": "6df0dbf2-f42c-490b-9607-f3b6628fc709",
   "metadata": {},
   "source": [
    "## Step 4 - Create an ONNX model"
   ]
  },
  {
   "cell_type": "code",
   "execution_count": 25,
   "id": "26ea71a9-8431-4f4a-91f1-058fd6a94e00",
   "metadata": {},
   "outputs": [],
   "source": [
    "import tf2onnx\n",
    "import onnx"
   ]
  },
  {
   "cell_type": "code",
   "execution_count": 26,
   "id": "19b6c179-2b19-4123-997a-c544ab99bb2c",
   "metadata": {},
   "outputs": [],
   "source": [
    "ONNX_OUTPUT_FILE = os.path.join(MODEL_DIR, \"cf_recommender.onnx\")"
   ]
  },
  {
   "cell_type": "markdown",
   "id": "1f885cc7-e440-4c2e-b73b-276bf0dbb661",
   "metadata": {},
   "source": [
    "## Step 4.1: Define the Input Signature for our Multi-Input Model"
   ]
  },
  {
   "cell_type": "code",
   "execution_count": 27,
   "id": "5ea08def-156e-46d4-b340-160d2eed721c",
   "metadata": {},
   "outputs": [
    {
     "name": "stdout",
     "output_type": "stream",
     "text": [
      "Defining the input signature for ONNX conversion...\n",
      "Input signature defined:\n",
      "  - Input 1: name='user_input', shape=(None, 1), dtype=int32\n",
      "  - Input 2: name='movie_input', shape=(None, 1), dtype=int32\n"
     ]
    }
   ],
   "source": [
    "print(\"Defining the input signature for ONNX conversion...\")\n",
    "\n",
    "# Our model has two inputs (the user and the movie), so our signature will be a tuple of two TensorSpecs.\n",
    "# The `name` in each TensorSpec MUST match the name of the Input layer in your Keras model.\n",
    "# The shape [None, 1] means the model can accept batches of any size (None), where each input is a single value (1).\n",
    "input_signature = (\n",
    "    tf.TensorSpec([None, 1], tf.int32, name='user_input'),\n",
    "    tf.TensorSpec([None, 1], tf.int32, name='movie_input')\n",
    ")\n",
    "\n",
    "print(\"Input signature defined:\")\n",
    "print(f\"  - Input 1: name='{input_signature[0].name}', shape={input_signature[0].shape}, dtype={input_signature[0].dtype.name}\")\n",
    "print(f\"  - Input 2: name='{input_signature[1].name}', shape={input_signature[1].shape}, dtype={input_signature[1].dtype.name}\")"
   ]
  },
  {
   "cell_type": "markdown",
   "id": "de92e111-5bdf-442f-9b7a-41bd1deb4cb6",
   "metadata": {},
   "source": [
    "## Step 4.2: Convert the Model to ONNX Format"
   ]
  },
  {
   "cell_type": "code",
   "execution_count": 29,
   "id": "f11b61f9-4d2d-4b96-8ea5-85d110d3ace4",
   "metadata": {},
   "outputs": [
    {
     "name": "stdout",
     "output_type": "stream",
     "text": [
      "\n",
      "Converting model to ONNX with opset 15...\n"
     ]
    },
    {
     "name": "stderr",
     "output_type": "stream",
     "text": [
      "2025-07-01 18:58:29.332728: I tensorflow/core/grappler/devices.cc:75] Number of eligible GPUs (core count >= 8, compute capability >= 0.0): 0 (Note: TensorFlow was not compiled with CUDA or ROCm support)\n",
      "2025-07-01 18:58:29.333445: I tensorflow/core/common_runtime/pluggable_device/pluggable_device_factory.cc:305] Could not identify NUMA node of platform GPU ID 0, defaulting to 0. Your kernel may not have been built with NUMA support.\n",
      "2025-07-01 18:58:29.333453: I tensorflow/core/common_runtime/pluggable_device/pluggable_device_factory.cc:271] Created TensorFlow device (/job:localhost/replica:0/task:0/device:GPU:0 with 0 MB memory) -> physical PluggableDevice (device: 0, name: METAL, pci bus id: <undefined>)\n",
      "2025-07-01 18:58:29.681108: I tensorflow/core/common_runtime/pluggable_device/pluggable_device_factory.cc:305] Could not identify NUMA node of platform GPU ID 0, defaulting to 0. Your kernel may not have been built with NUMA support.\n",
      "2025-07-01 18:58:29.681133: I tensorflow/core/common_runtime/pluggable_device/pluggable_device_factory.cc:271] Created TensorFlow device (/job:localhost/replica:0/task:0/device:GPU:0 with 0 MB memory) -> physical PluggableDevice (device: 0, name: METAL, pci bus id: <undefined>)\n",
      "2025-07-01 18:58:29.747978: I tensorflow/core/grappler/devices.cc:75] Number of eligible GPUs (core count >= 8, compute capability >= 0.0): 0 (Note: TensorFlow was not compiled with CUDA or ROCm support)\n",
      "2025-07-01 18:58:29.748144: I tensorflow/core/common_runtime/pluggable_device/pluggable_device_factory.cc:305] Could not identify NUMA node of platform GPU ID 0, defaulting to 0. Your kernel may not have been built with NUMA support.\n",
      "2025-07-01 18:58:29.748153: I tensorflow/core/common_runtime/pluggable_device/pluggable_device_factory.cc:271] Created TensorFlow device (/job:localhost/replica:0/task:0/device:GPU:0 with 0 MB memory) -> physical PluggableDevice (device: 0, name: METAL, pci bus id: <undefined>)\n"
     ]
    }
   ],
   "source": [
    "# The opset version is important. 13 or 15 are good, stable choices.\n",
    "print(f\"\\nConverting model to ONNX with opset 15...\")\n",
    "\n",
    "onnx_model, _ = tf2onnx.convert.from_keras(\n",
    "    model,\n",
    "    input_signature=input_signature,\n",
    "    opset=15\n",
    ")"
   ]
  },
  {
   "cell_type": "code",
   "execution_count": 30,
   "id": "a9d980bd-b3a5-4676-81a9-3e1918b7f63a",
   "metadata": {},
   "outputs": [
    {
     "name": "stdout",
     "output_type": "stream",
     "text": [
      "SUCCESS: Model successfully converted and saved to:\n",
      "  ../saved_models/cf_recommender.onnx\n"
     ]
    }
   ],
   "source": [
    "# Save the ONNX model to a file\n",
    "onnx.save(onnx_model, ONNX_OUTPUT_FILE)\n",
    "\n",
    "print(f\"SUCCESS: Model successfully converted and saved to:\")\n",
    "print(f\"  {ONNX_OUTPUT_FILE}\")"
   ]
  },
  {
   "cell_type": "code",
   "execution_count": null,
   "id": "40a954d9-5ba0-4f2d-bb6f-f6cd9dbf6f88",
   "metadata": {},
   "outputs": [],
   "source": []
  }
 ],
 "metadata": {
  "kernelspec": {
   "display_name": "Python 3 (ipykernel)",
   "language": "python",
   "name": "python3"
  },
  "language_info": {
   "codemirror_mode": {
    "name": "ipython",
    "version": 3
   },
   "file_extension": ".py",
   "mimetype": "text/x-python",
   "name": "python",
   "nbconvert_exporter": "python",
   "pygments_lexer": "ipython3",
   "version": "3.11.12"
  }
 },
 "nbformat": 4,
 "nbformat_minor": 5
}
