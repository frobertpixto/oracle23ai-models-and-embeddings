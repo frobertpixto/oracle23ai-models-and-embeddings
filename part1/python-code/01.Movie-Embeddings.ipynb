{
 "cells": [
  {
   "cell_type": "markdown",
   "id": "a989fa44-2376-4349-97e7-ca4b64e71707",
   "metadata": {},
   "source": [
    "# Create Embeddings for movies in Movielens dataset\n",
    "- Using texts from Title, Genres and Tags\n",
    "- Embedding is created using `all-MiniLM-L12-v2`"
   ]
  },
  {
   "cell_type": "code",
   "execution_count": 1,
   "id": "e898923f-7069-4595-b616-3d33360cee1a",
   "metadata": {},
   "outputs": [],
   "source": [
    "import os\n",
    "import pandas as pd\n",
    "from sentence_transformers import SentenceTransformer\n",
    "from sklearn.metrics.pairwise import cosine_similarity"
   ]
  },
  {
   "cell_type": "code",
   "execution_count": 2,
   "id": "48c27f9a-558c-4235-9022-d2920da4fa81",
   "metadata": {},
   "outputs": [
    {
     "name": "stdout",
     "output_type": "stream",
     "text": [
      "Python: 3.11.12\n"
     ]
    }
   ],
   "source": [
    "from platform import python_version\n",
    "print(f'Python: {python_version()}')"
   ]
  },
  {
   "cell_type": "code",
   "execution_count": 3,
   "id": "d94a1e10-9344-4f90-afe2-d82c792964db",
   "metadata": {},
   "outputs": [],
   "source": [
    "movielens_dataset = \"full\"  #\"small\""
   ]
  },
  {
   "cell_type": "markdown",
   "id": "6b928f2c-39a8-40d8-9200-81a3315f251d",
   "metadata": {},
   "source": [
    "## Step 1: Load all necessary movielens datasets"
   ]
  },
  {
   "cell_type": "code",
   "execution_count": 4,
   "id": "e627ad2a-5c5e-4efb-8e89-f03fcbcc7023",
   "metadata": {},
   "outputs": [
    {
     "name": "stdout",
     "output_type": "stream",
     "text": [
      "Loading datasets...\n",
      "movies.csv and tags.csv loaded successfully.\n"
     ]
    }
   ],
   "source": [
    "print(\"Loading datasets...\")\n",
    "try:\n",
    "    movies_df = pd.read_csv(f'../../movielens_data/{movielens_dataset}/movies.csv')\n",
    "    tags_df = pd.read_csv(f'../../movielens_data/{movielens_dataset}/tags.csv')\n",
    "    print(\"movies.csv and tags.csv loaded successfully.\")\n",
    "except FileNotFoundError as e:\n",
    "    print(f\"Error: {e}. Please ensure CSV files are in the same directory.\")\n",
    "    exit()"
   ]
  },
  {
   "cell_type": "code",
   "execution_count": 5,
   "id": "573b69aa-15fe-426e-9f99-45ef3f76aaba",
   "metadata": {},
   "outputs": [
    {
     "data": {
      "text/html": [
       "<div>\n",
       "<style scoped>\n",
       "    .dataframe tbody tr th:only-of-type {\n",
       "        vertical-align: middle;\n",
       "    }\n",
       "\n",
       "    .dataframe tbody tr th {\n",
       "        vertical-align: top;\n",
       "    }\n",
       "\n",
       "    .dataframe thead th {\n",
       "        text-align: right;\n",
       "    }\n",
       "</style>\n",
       "<table border=\"1\" class=\"dataframe\">\n",
       "  <thead>\n",
       "    <tr style=\"text-align: right;\">\n",
       "      <th></th>\n",
       "      <th>movieId</th>\n",
       "      <th>title</th>\n",
       "      <th>genres</th>\n",
       "    </tr>\n",
       "  </thead>\n",
       "  <tbody>\n",
       "    <tr>\n",
       "      <th>0</th>\n",
       "      <td>1</td>\n",
       "      <td>Toy Story (1995)</td>\n",
       "      <td>Adventure|Animation|Children|Comedy|Fantasy</td>\n",
       "    </tr>\n",
       "    <tr>\n",
       "      <th>1</th>\n",
       "      <td>2</td>\n",
       "      <td>Jumanji (1995)</td>\n",
       "      <td>Adventure|Children|Fantasy</td>\n",
       "    </tr>\n",
       "    <tr>\n",
       "      <th>2</th>\n",
       "      <td>3</td>\n",
       "      <td>Grumpier Old Men (1995)</td>\n",
       "      <td>Comedy|Romance</td>\n",
       "    </tr>\n",
       "    <tr>\n",
       "      <th>3</th>\n",
       "      <td>4</td>\n",
       "      <td>Waiting to Exhale (1995)</td>\n",
       "      <td>Comedy|Drama|Romance</td>\n",
       "    </tr>\n",
       "    <tr>\n",
       "      <th>4</th>\n",
       "      <td>5</td>\n",
       "      <td>Father of the Bride Part II (1995)</td>\n",
       "      <td>Comedy</td>\n",
       "    </tr>\n",
       "  </tbody>\n",
       "</table>\n",
       "</div>"
      ],
      "text/plain": [
       "   movieId                               title  \\\n",
       "0        1                    Toy Story (1995)   \n",
       "1        2                      Jumanji (1995)   \n",
       "2        3             Grumpier Old Men (1995)   \n",
       "3        4            Waiting to Exhale (1995)   \n",
       "4        5  Father of the Bride Part II (1995)   \n",
       "\n",
       "                                        genres  \n",
       "0  Adventure|Animation|Children|Comedy|Fantasy  \n",
       "1                   Adventure|Children|Fantasy  \n",
       "2                               Comedy|Romance  \n",
       "3                         Comedy|Drama|Romance  \n",
       "4                                       Comedy  "
      ]
     },
     "execution_count": 5,
     "metadata": {},
     "output_type": "execute_result"
    }
   ],
   "source": [
    "movies_df.head()"
   ]
  },
  {
   "cell_type": "code",
   "execution_count": 6,
   "id": "c2b8a85a-86b8-410c-a60a-84d3b8e0587b",
   "metadata": {},
   "outputs": [
    {
     "data": {
      "text/html": [
       "<div>\n",
       "<style scoped>\n",
       "    .dataframe tbody tr th:only-of-type {\n",
       "        vertical-align: middle;\n",
       "    }\n",
       "\n",
       "    .dataframe tbody tr th {\n",
       "        vertical-align: top;\n",
       "    }\n",
       "\n",
       "    .dataframe thead th {\n",
       "        text-align: right;\n",
       "    }\n",
       "</style>\n",
       "<table border=\"1\" class=\"dataframe\">\n",
       "  <thead>\n",
       "    <tr style=\"text-align: right;\">\n",
       "      <th></th>\n",
       "      <th>userId</th>\n",
       "      <th>movieId</th>\n",
       "      <th>tag</th>\n",
       "      <th>timestamp</th>\n",
       "    </tr>\n",
       "  </thead>\n",
       "  <tbody>\n",
       "    <tr>\n",
       "      <th>0</th>\n",
       "      <td>22</td>\n",
       "      <td>26479</td>\n",
       "      <td>Kevin Kline</td>\n",
       "      <td>1583038886</td>\n",
       "    </tr>\n",
       "    <tr>\n",
       "      <th>1</th>\n",
       "      <td>22</td>\n",
       "      <td>79592</td>\n",
       "      <td>misogyny</td>\n",
       "      <td>1581476297</td>\n",
       "    </tr>\n",
       "    <tr>\n",
       "      <th>2</th>\n",
       "      <td>22</td>\n",
       "      <td>247150</td>\n",
       "      <td>acrophobia</td>\n",
       "      <td>1622483469</td>\n",
       "    </tr>\n",
       "    <tr>\n",
       "      <th>3</th>\n",
       "      <td>34</td>\n",
       "      <td>2174</td>\n",
       "      <td>music</td>\n",
       "      <td>1249808064</td>\n",
       "    </tr>\n",
       "    <tr>\n",
       "      <th>4</th>\n",
       "      <td>34</td>\n",
       "      <td>2174</td>\n",
       "      <td>weird</td>\n",
       "      <td>1249808102</td>\n",
       "    </tr>\n",
       "  </tbody>\n",
       "</table>\n",
       "</div>"
      ],
      "text/plain": [
       "   userId  movieId          tag   timestamp\n",
       "0      22    26479  Kevin Kline  1583038886\n",
       "1      22    79592     misogyny  1581476297\n",
       "2      22   247150   acrophobia  1622483469\n",
       "3      34     2174        music  1249808064\n",
       "4      34     2174        weird  1249808102"
      ]
     },
     "execution_count": 6,
     "metadata": {},
     "output_type": "execute_result"
    }
   ],
   "source": [
    "tags_df.head()"
   ]
  },
  {
   "cell_type": "markdown",
   "id": "b77e96ae-1fdb-4cfa-9ce8-4555a2d80626",
   "metadata": {},
   "source": [
    "## Step 2: Aggregate the tags for each movie"
   ]
  },
  {
   "cell_type": "code",
   "execution_count": 7,
   "id": "d7760d96-8518-44c0-9ddb-a37b5f3c7890",
   "metadata": {},
   "outputs": [
    {
     "name": "stdout",
     "output_type": "stream",
     "text": [
      "Aggregating tags...\n",
      "Aggregating tags with data cleaning...\n"
     ]
    }
   ],
   "source": [
    "print(\"Aggregating tags...\")\n",
    "# We only want the text, so let's drop other columns\n",
    "tags_df = tags_df[['movieId', 'tag']]\n",
    "\n",
    "print(\"Aggregating tags with data cleaning...\")\n",
    "aggregated_tags = tags_df.groupby('movieId')['tag'].unique().apply(\n",
    "    # For each list of tags 'x', create a new list containing only the items that are strings\n",
    "    lambda x: ', '.join([tag for tag in x if isinstance(tag, str)])\n",
    ")"
   ]
  },
  {
   "cell_type": "code",
   "execution_count": 8,
   "id": "c11bad50-00b3-45dc-8567-15997b20ef73",
   "metadata": {},
   "outputs": [
    {
     "name": "stdout",
     "output_type": "stream",
     "text": [
      "Tag aggregation complete.\n",
      "Example of aggregated tags:\n"
     ]
    },
    {
     "data": {
      "text/html": [
       "<div>\n",
       "<style scoped>\n",
       "    .dataframe tbody tr th:only-of-type {\n",
       "        vertical-align: middle;\n",
       "    }\n",
       "\n",
       "    .dataframe tbody tr th {\n",
       "        vertical-align: top;\n",
       "    }\n",
       "\n",
       "    .dataframe thead th {\n",
       "        text-align: right;\n",
       "    }\n",
       "</style>\n",
       "<table border=\"1\" class=\"dataframe\">\n",
       "  <thead>\n",
       "    <tr style=\"text-align: right;\">\n",
       "      <th></th>\n",
       "      <th>movieId</th>\n",
       "      <th>tags</th>\n",
       "    </tr>\n",
       "  </thead>\n",
       "  <tbody>\n",
       "    <tr>\n",
       "      <th>0</th>\n",
       "      <td>1</td>\n",
       "      <td>children, Disney, animation, pixar, funny, Pix...</td>\n",
       "    </tr>\n",
       "    <tr>\n",
       "      <th>1</th>\n",
       "      <td>2</td>\n",
       "      <td>Robin Williams, fantasy, time travel, animals,...</td>\n",
       "    </tr>\n",
       "    <tr>\n",
       "      <th>2</th>\n",
       "      <td>3</td>\n",
       "      <td>comedinha de velhinhos engraÃƒÂ§ada, comedinha...</td>\n",
       "    </tr>\n",
       "    <tr>\n",
       "      <th>3</th>\n",
       "      <td>4</td>\n",
       "      <td>characters, slurs, based on novel or book, chi...</td>\n",
       "    </tr>\n",
       "    <tr>\n",
       "      <th>4</th>\n",
       "      <td>5</td>\n",
       "      <td>Fantasy, pregnancy, remake, family, Steve Mart...</td>\n",
       "    </tr>\n",
       "  </tbody>\n",
       "</table>\n",
       "</div>"
      ],
      "text/plain": [
       "   movieId                                               tags\n",
       "0        1  children, Disney, animation, pixar, funny, Pix...\n",
       "1        2  Robin Williams, fantasy, time travel, animals,...\n",
       "2        3  comedinha de velhinhos engraÃƒÂ§ada, comedinha...\n",
       "3        4  characters, slurs, based on novel or book, chi...\n",
       "4        5  Fantasy, pregnancy, remake, family, Steve Mart..."
      ]
     },
     "execution_count": 8,
     "metadata": {},
     "output_type": "execute_result"
    }
   ],
   "source": [
    "# Convert the resulting Series to a DataFrame for merging\n",
    "aggregated_tags_df = aggregated_tags.to_frame(name='tags').reset_index()\n",
    "print(\"Tag aggregation complete.\")\n",
    "print(\"Example of aggregated tags:\")\n",
    "aggregated_tags_df.head()"
   ]
  },
  {
   "cell_type": "markdown",
   "id": "aa7f9793-c8a4-48d9-82f7-f62f4373d679",
   "metadata": {},
   "source": [
    "## Step 3: Merge tags with the main movies DataFrame"
   ]
  },
  {
   "cell_type": "code",
   "execution_count": 9,
   "id": "0d5ec754-aedb-4bec-9edf-bffcd940cde6",
   "metadata": {},
   "outputs": [
    {
     "name": "stdout",
     "output_type": "stream",
     "text": [
      "\n",
      "Merging tags into movies DataFrame...\n",
      "Merge complete.\n",
      "DataFrame head with new 'tags' column:\n",
      "   movieId                               title  \\\n",
      "0        1                    Toy Story (1995)   \n",
      "1        2                      Jumanji (1995)   \n",
      "2        3             Grumpier Old Men (1995)   \n",
      "3        4            Waiting to Exhale (1995)   \n",
      "4        5  Father of the Bride Part II (1995)   \n",
      "\n",
      "                                        genres  \\\n",
      "0  Adventure|Animation|Children|Comedy|Fantasy   \n",
      "1                   Adventure|Children|Fantasy   \n",
      "2                               Comedy|Romance   \n",
      "3                         Comedy|Drama|Romance   \n",
      "4                                       Comedy   \n",
      "\n",
      "                                                tags  \n",
      "0  children, Disney, animation, pixar, funny, Pix...  \n",
      "1  Robin Williams, fantasy, time travel, animals,...  \n",
      "2  comedinha de velhinhos engraÃƒÂ§ada, comedinha...  \n",
      "3  characters, slurs, based on novel or book, chi...  \n",
      "4  Fantasy, pregnancy, remake, family, Steve Mart...  \n"
     ]
    }
   ],
   "source": [
    "print(\"\\nMerging tags into movies DataFrame...\")\n",
    "# Use a 'left' merge to keep all movies, even those without tags\n",
    "movies_v2_df = pd.merge(movies_df, aggregated_tags_df, on='movieId', how='left')\n",
    "# Replace NaN (for movies with no tags) with an empty string\n",
    "movies_v2_df['tags'] = movies_v2_df['tags'].fillna('')\n",
    "print(\"Merge complete.\")\n",
    "print(\"DataFrame head with new 'tags' column:\")\n",
    "print(movies_v2_df.head())"
   ]
  },
  {
   "cell_type": "markdown",
   "id": "f2b9d2e0-9f3b-4790-bf81-b262c8d46c35",
   "metadata": {},
   "source": [
    "## Step 4: Create the complete richer text for embedding"
   ]
  },
  {
   "cell_type": "code",
   "execution_count": 10,
   "id": "5d46cefc-30f2-4e0d-9237-8013bb9a04bf",
   "metadata": {},
   "outputs": [],
   "source": [
    "def create_enhanced_text(row):\n",
    "    title = row['title']\n",
    "    genres = row['genres'].replace('|', ', ')\n",
    "    tags = row['tags']\n",
    "    # Combine all three pieces of information\n",
    "    return f\"Title: {title}. Genres: {genres}. Tags: {tags}\"\n",
    "\n",
    "movies_v2_df['text_for_embedding'] = movies_v2_df.apply(create_enhanced_text, axis=1)"
   ]
  },
  {
   "cell_type": "code",
   "execution_count": 11,
   "id": "20865cdd-82db-4877-b371-da1febd01447",
   "metadata": {},
   "outputs": [
    {
     "name": "stdout",
     "output_type": "stream",
     "text": [
      "\n",
      "Created enhanced text for embedding.\n",
      "Examples of complete texts:\n",
      "\n",
      "Title: Apocalypse Now (1979). Genres: Action, Drama, War. Tags: dark, descent into madness, Disturbing , hallucinatory, insanity, psychological, Visually Striking, too long, 100 Greatest Movies, Marlon Brando, Oscar (Best Cinematography), Oscar Nominee: Best Picture, New Hollywood, Tumey's DVDs, book was better, classic, cult of masculinity, Long, Nudity (Topless), Vietnam war, disturbing, surreal, Vietnam, adventure, based on a book, Dark, military, violent, boring, sound editing, war, Francis Ford Coppola, Vietnam War, chaos, anti-war, Martin Sheen, Robert Duvall, Joseph Conrad, drama, guerra, gore, movie to see, masculinity, mission, ominous, sweeping, tense, visceral, atmospheric, sound effects, soundtrack, Rain, Dennis Hopper, acting, adapted from:book, based on novel, Best War Films, downward spiral, epic, Francis Ford Copolla, horrors of war, moral transformation, psychology, war drama, Albert Hall, army, Author:Joseph Conrad, boat, Director: Francis Ford Coppola, Harrison Ford, imdb top 250, insanity during war, jungle, Laurence Fishburne, lengthy, Long , napalm, narrated, Oscar (Best Sound), Oscar Nominee: Adapted Screenplay, Oscar Nominee: Best Picture 1979, Oscar Nominee: Director, Oscar Nominee: Editing, Oscar Nominee: Set Decoration, Oscar Nominee: Supporting Actor, quotable, river, Too Long!, vietcong, war movie, Bechdel Test:Fail, AFI 100, AFI 100 (Movie Quotes), National Film Registry, new hollywood, Palme d'Or, bad ending, ending kinda ruined it, Heart of Darkness, amazon prime video, vietnam, vietnam war, top five, drugs, MMsWL, Animal brutality, far out, MNM, 5 stars, Quotable, nudity (topless), dvd, Frederic Forrest, weird, 1960s, actual animal killed, air cavalry, air raid, air strike, allegory, american abroad, american imperialism, american soldier, animal abuse, animal sacrifice, anti war, apocalypse, army base, army life, asia, assassin, assassination, assassination plot, atrocity, awol, based on novel or book, battle, beach, beer, black comedy, blockbuster, body paint, breasts, bridge, brutality, bugle, bull decapitation, cambodia, campfire, captain, cavalry, ceiling fan, chief petty officer, chopper, cia, cia agent, cia central intelligence agency, cigar smoking, cigarette smoking, co written by director, colonel, colonialism, combat, cult, cult film, dark hero, darkness, death, decapitation, drug abuse, ethnic stereotype, evacuation, exploding bridge, exploding car, exploding helicopter, explosion, explosive, famous line, female nudity, fighting, fire, fireworks, flamethrower, funeral, gatling gun, general, god complex, government assassin, graffiti, green beret, guerrilla, guerrilla base, guerrilla warfare, head on a stake, helicopter, helicopter pilot, helicopter raid, hidden city, hotel, hypocrisy, idolatry, imagery, imperialism, independent film, jarhead, journalism, journalist, jungle warfare, knife, lens flare, lieutenant colonel, lieutenant general, lsd, machete, machine gun, machismo, madness, magazine, male nudity, male rear nudity, male soldier, mango, marijuana, massacre, medal, metaphor, military officer, military uniform, missile, modern day adaptation, montagnard, morality, mud, mythological, national film registry, native, navy, neo noir, nihilism, nikon camera, no opening credits, no title at beginning, odyssey, opium pipe, opium smoking, pacifism, party, patrol boat, phoenix program, plantation, playboy playmate, poetry, priest, psychedelic, puppy, racism, radio transmission, rain, rainstorm, reference to richard wagner, regicide, riverboat, road movie, roadboatmovie, saigon vietnam, secret mission, severed head, slaughter, slow motion scene, soldier, southeast asia, spear, spear through chest, special forces, suicide bomber, surfboard, surfing, surrealism, tank, tape recorder, temple, tiger, topless, tribe, tropical disease, tropics, troubled production, two word title, u.s. army, u.s. military, u.s. navy, u.s. soldier, uncle sam, uniform, vietcong vietnam, villain played by lead actor, violence, voice over narration, wagner's ride of the valkyries, war criminal, warmonger, water buffalo, water skiing, woman smokes a cigar, writer director producer, year 1969, Brando, ohsoso, animal cruelty, Philippines, 70mm, Anamorphic Blow-Up, BD-Video, Betamax, DVD-Video, crazy war, FilmAffinity Top Pick, R, Seen 2016, slow motion, U.S. Army, the humanity, memasa's movies, absurdism, Golden Palm, Veja, ubermensch, action, USA, Redux, AFI #28, heart of darkness, 8.2-FilmAffinity, MarinaVista, need to buy, Boring, Slow, 4k, incomprehensible, camerawork, cinematography, cinematographer:Vittorio Storaro, Cinematography: Vittorio Storaro, Soundtrack: Carmine Coppola, Soundtrack: Francis Ford Coppola, audiovisual orgasm\n",
      "\n",
      "Title: Inception (2010). Genres: Action, Crime, Drama, Mystery, Sci-Fi, Thriller, IMAX. Tags: action, dream within a dream, dreamlike, Leonardo DiCaprio, multiple interpretations, surreal, Tokyo, visually appealing, alternate reality, cerebral, Christopher Nolan, complex, complicated, dreams, editing, ensemble cast, great cast, Hans Zimmer, heist, intellectual, intense, mindfuck, Nolan, plot twist, psychological, psychology, questions reality, sci-fi, subconscious, suspense, thought-provoking, twist ending, unpredictable, visually stunning, clever, Ellen Page, Tom Hardy, drama, fantasy, Joseph Gordon-Levitt, memory, dream, great soundtrack, guilt, Oscar Nominee: Best Picture, time, cinematography, philosophy, science fiction, ambiguous ending, big budget, imaginative, interesting, Ken Watanabe, makes you think, Michael Caine, mind games, multiple realities, open ending, original, original plot, thriller, familiar experience, lucid dreaming, Cillian Murphy, overrated, Paris, confusing plot, inconsistencies, plot holes, multi-level, too much explaining, Intense, long, drams, complicated plot, Intense , thrilling, ending, Intelligent scifi, special effects, imdb top 250, not available from Netflix streaming, inception, Boring after 2/3, predictable, too long, metaphysical, seen more than once, fight scene, life sense, murder, sentimental, time relationships, violence, pretentious, epic, imagination, music, psychological thriller, soundtrack, j netflix, blu-ray, mine, Ideas, Marion Cotillard, Regret, Soundtrack, mystery, excellent soundscore, adventure, sci fi, Dileep Rao, Do zassania, Tom Berenger, boring, dull, an excellent socio fantasy movie, architecture, script, weightlessness, amazing execution, interesting story, unexpected, Watched, Mindfuck Movie, broken characters, one last job, virtual reality, Mitchel Classic, Thumping Soundtrack, Illogical, not as smart as it thinks it is, netflix, Filmbro, good acting, justice, short-term memory loss, cobb's wife, wonderful thoughts, hyped, unnecessarily confusing, toplist10, top movie, Sound design, makes you stupid, non sense, nonsensical, Thriller , great acting, making, powerful visuals, practical effects, fantasy world, confusing, unrealistic, favorite, dramatic, plot, Pete Postlethwaite, IMDB Top 250, slow motion, hughbar, dreaming, memory loss, reality, car crash, dream world, hotel, los angeles, mission, paris, rescue, exposition, pseudo intellectual, arbitrary, fast paced, classical, sophisticated, 沈思, espionage, Oscar Nominee: Best Picture 2010, ending kinda ruined it, mediocre ending, convoluted, cliche, happy ending, Ambiguous, hans zimmer, leonardo di caprio, BD-Video, IMAX DMR, Elliot Page , test tag, bathtub, Bechdel Test:Fail, coughing blood, director-screenwriter, flare gun, godfather-godson relationship, Kenya, Los Angeles, mirrors, PG-13, PG-13:action, PG-13:violence, sedation, Seen 2010, spinning top, Sydney, innovative, thoughtful, 2020, memasa's movies, dead wife, Hollywood, masterpiece, nonsense, philosophy of life, existensialism, Existentialism , Seen 2020, unique, jus+san, acting, inconsistent, Mtstery, Sci-Fi, sleepfest, talky, unclear, Music , great concept, deep, recursion, implausible, layered, Orriginal screenplay, keeps you wondering, classic sci-fi, intelligent, Director: Christopher Nolan, Writer: Christopher Nolan\n",
      "\n",
      "Title: Arrival (2016). Genres: Sci-Fi. Tags: Cerebral Sci-Fi, communication, linguist, linguistics, sense of awe, strong female lead, thoughtful sci-fi, bad science, beautiful visuals, cinematography, plot twist, thought-provoking, visually appealing, cerebral, Cerebral Science-Fiction, first contact, Intelligent Sc-Fi, nonlinear, nonlinear timeline, romantic but not cheesy, sci-fi, star crossed lovers, time loop, twist ending, unconventional plot, time travel, alien, alien language, aliens, extraterrestrial, great aliens, scientist, spacecraft, fatalist, prolife propaganda, Aliens , Amy Adams, Denis Villeneuve, Director: Denis Villeneuve, Jóhann Jóhannsson, Aliens, Cerebral, Sci-fi, plot holes, language, smart, writing, good cinematography, alien contact, depressing, drama, existential, sad, based on short story, concept, fatalism, heartbreak, military, slow, slow burn, sound design, mystery, excellent soundtracks, Jeremy Renner, romance, the phone number scene, time travel problems, xenophobia, form and content, cooperation, great ending, Oscar Nominee: Best Picture, deus ex machina, family, blu-ray, mine, Moral Dilemma, boring, cliche, clichéd, overrated, predictable, shallow, do zassania, Scarlett Johansson, jeremy renner, loss, philosophical, spiritual, masterpiece, mother daughter relationship, USA, female protag, USA-centric, date movie, Sci-fi , arrogant protagonist, immersive, soundtrack, misunderstood, movie, toplist16, creepy, atmospheric, awe inspiring, deep, moody, thriller, Not as good as the book, science fiction, brainfuck, 2010s, absent father, aerial camera shot, aircraft carrier, alien abduction, alien creature, alien invasion, alien life form, alien race, alien spacecraft, alien spaceship, army base, audio message, australian, baby, baby girl, begins with narration, bilingualism, bird in a cage, birdcage, bomb, bootstrap paradox, breaking news, brink of war, caged bird, camera, canary, cancer, captain, cell phone, ch 47 chinook helicopter, change of mind, character says i love you, childbirth, china, chinese, chinese army officer, cia agent, cia central intelligence agency, circle, clay figure, college campus, college professor, colonel, communications, computer, contamination, cowgirl costume, creature, death, death of child, death of daughter, decontamination, departure, disappearance, disease, doctor, drawing, dream, englishman, escalation, escape, evacuation, explosion, f word, fate, father daughter relationship, fear, female protagonist, female scientist, female time traveler, fighter jet, first person narration, flash forward, flashback, flashlight, flip chart, foresight, general, girl, grief, grieving mother, hallucination, hazmat suit, held at gunpoint, helicopter, heptapod, hope, hospital, husband wife relationship, hypodermic needle, impatience, injection, ink, insight, international relations, interpretation, interpreter, kid art, knocked out, language barrier, laptop, leaning a language, library, little girl, logogram, looting, loss of daughter, low gravity, machine gun, man wears a tuxedo, map, massachusetts, media coverage, media manipulation, memory, message, mi 24 hind helicopter, militarism, military aggression, military officer, misunderstanding, montage, montana, moral dilemma, news channel, news report, newscast, no opening credits, no title at beginning, one twelfth, one word title, outer space, pakistan, pakistani, palindrome, panic, paramount, paranoia, parking garage, philosophical conversation, physicist, pickup truck, pistol, politics, portuguese class, precaution, precognition, premonition, press conference, professor, prophecy, protest, psychotronic film, race against time, rain, reference to abbott and costello, reference to sheena easton, reference to the united nations, reference to the university of california at berkeley, reminiscence, restaurant, riot, russia, sanskrit, satellite, scissor lift jack, seeing the future, shock jock, shuttle craft, single mother, single parent, sleeping with a body pillow, slow motion scene, social commentary, soldier, spaceship, sphere, squid, subtitled scene, sudan, supernatural power, surprise ending, surrealism, suspense, symbol, tank, teleportation, tent, tentacle, terminal illness, theoretical physicist, threat, time, time bomb, time paradox, time traveler, title at the end, translator, u.s. army, u.s. president, u.s. soldier, unidentified flying object, united nations, venezuela, vision, voice over narration, vomiting, warship, weightless, wine, younger version of character, zero gravity, Self important, Oscar Nominee: Best Picture 2016, score, obvious, fatalistic, almost clean language, f-bomb, non-linear, seen 2022, seen 2022 with family, seen more than once, world peace, Rewatch, hard sci-fi, good science, 2016, emotional, moving, great premise, demanding, accent, 4k, bad twist ending, unrelatable, based on a book, narrated, American propaganda\n",
      "\n",
      "Title: My Life as a Dog (Mitt liv som hund) (1985). Genres: Comedy, Drama. Tags: coming of age, Criterion, Lasse Hallström, sweden, Swedish, wistful, vulnerability, affectionate, gentle, poignant, reflective, witty, wry, na dysku, Swedish , 1950s, accident, ambulance, artist, barking, based on novel, based on novel or book, boxing, boxing champion, brother brother relationship, child boxing, childhood, cult film, curiosity, cynicism, dead mother, death of mother, deathbed, dog, dog actor, eccentric, falling off a roof, female athlete, female boxer, female nudity, female protagonist, fight, floyd patterson, friend, friendship, girl fighter, girl on boys team, girl power, girl pretending to be a boy, glassblower, grief, hospital, illness, juvenile bedwetting, ladies underwear catalog, listening to music, listening to the radio, loneliness, male nudity, memory, mental illness, missing father, model, mother son relationship, mourning, newspaper, nude model, nudity, old man, peeping tom, penis, pipe smoking, prank, prankster, precociousness, puberty, reading, record player, recording, reference to laika, rural area, rural setting, screenplay adapted by author, sex scene, sexuality, smaland sweden, small town, soccer, strong female, summer house, tantrum, terminal illness, toaster, tomboy, uncle, uncle nephew relationship, underdog, urination, walking on train tracks, watching tv, wetting pants, woman dressed as a man, young boy, young girl, Nudity (Full Frontal - Brief), BD-R, Betamax, DVD-RAM, absent fathers, child nudity, dogs, flashbacks, grieving, library vhs, loss, mother-son relationship, Nudity (Topless - Notable), seasons, teenagers, village, swedish, NO_FA_GANES\n",
      "\n",
      "Title: Other Guys, The (2010). Genres: Action, Comedy. Tags: misogyny, buddy movie, funny, Mark Wahlberg, New York City, police, subtle humor, clever, comedy, Eva Mendes, parody, political, satirical, social comentary, absurd, ahead of its time, bad acting, charisma, Dwayne Johnson, product placement, self-aware, USA, weak plot, spoof, Will Ferrell, great action, horrid jokes, Comedy , Samuel L Jackson, Michael Keaton, silly, Will Ferrel, confusing, Adam McKay, crime, watch the credits, aftercreditsstinger, buddy comedy, carjacking, ceo, duringcreditsstinger, fire truck, narration, shot, zip line, metaphor, Weak screenplay, Steve Coogan, owned, spiteful humour, ridiculous, adventure, dialogue, Funny as hell, humour, lighthearted, redbox, good screenplay\n"
     ]
    }
   ],
   "source": [
    "print(\"\\nCreated enhanced text for embedding.\")\n",
    "print(\"Examples of complete texts:\")\n",
    "print(\"\\n\" +movies_v2_df.loc[movies_v2_df['movieId'] == 1208, 'text_for_embedding'].iloc[0]) # Apocalypse Now (1979)\n",
    "print(\"\\n\" +movies_v2_df.loc[movies_v2_df['movieId'] == 79132, 'text_for_embedding'].iloc[0]) # Inception (2010)\n",
    "print(\"\\n\" +movies_v2_df.loc[movies_v2_df['movieId'] == 164179, 'text_for_embedding'].iloc[0]) # Arrival (2016)\n",
    "print(\"\\n\" +movies_v2_df.loc[movies_v2_df['movieId'] == 1300, 'text_for_embedding'].iloc[0]) # My Life as a Dog (Mitt liv som hund) (1985)\n",
    "print(\"\\n\" +movies_v2_df.loc[movies_v2_df['movieId'] == 79592, 'text_for_embedding'].iloc[0]) # Other Guys, The (2010)\n"
   ]
  },
  {
   "cell_type": "markdown",
   "id": "b4f1ccd6-69ec-4bd7-9bf1-3b718cec6a39",
   "metadata": {},
   "source": [
    "## Step 4: Load the pre-trained Sentence Transformer model\n",
    "'all-MiniLM-L12-v2' is a great general-purpose model. It's fast and provides high-quality embeddings (384 dimensions)."
   ]
  },
  {
   "cell_type": "code",
   "execution_count": 12,
   "id": "893d5500-3ca7-4ec3-a936-df96f207293a",
   "metadata": {},
   "outputs": [
    {
     "name": "stdout",
     "output_type": "stream",
     "text": [
      "\n",
      "Loading the Sentence Transformer model ('all-MiniLM-L12-v2')...\n",
      "Model loaded successfully.\n"
     ]
    }
   ],
   "source": [
    "print(\"\\nLoading the Sentence Transformer model ('all-MiniLM-L12-v2')...\")\n",
    "# The model will be downloaded automatically on the first run.\n",
    "model = SentenceTransformer('all-MiniLM-L12-v2')\n",
    "print(\"Model loaded successfully.\")"
   ]
  },
  {
   "cell_type": "markdown",
   "id": "94809dd0-8e34-4838-905d-cee0e91367a6",
   "metadata": {},
   "source": [
    "## Step 5: Generate the embeddings"
   ]
  },
  {
   "cell_type": "code",
   "execution_count": 13,
   "id": "e28ec445-491d-4b9e-84ed-6e9e7a834180",
   "metadata": {},
   "outputs": [
    {
     "name": "stdout",
     "output_type": "stream",
     "text": [
      "\n",
      "Generating embeddings for all movies. This might take a moment...\n"
     ]
    },
    {
     "data": {
      "application/vnd.jupyter.widget-view+json": {
       "model_id": "5a966b2e6e574089a4e741607e0c27a8",
       "version_major": 2,
       "version_minor": 0
      },
      "text/plain": [
       "Batches:   0%|          | 0/2738 [00:00<?, ?it/s]"
      ]
     },
     "metadata": {},
     "output_type": "display_data"
    },
    {
     "name": "stdout",
     "output_type": "stream",
     "text": [
      "Embeddings generated successfully.\n",
      "Shape of the embeddings array: (87585, 384)\n"
     ]
    }
   ],
   "source": [
    "print(\"\\nGenerating embeddings for all movies. This might take a moment...\")\n",
    "# Convert the text column to a list for the model\n",
    "texts_to_encode = movies_v2_df['text_for_embedding'].tolist()\n",
    "\n",
    "# Generate embeddings\n",
    "# The model.encode() method takes a list of strings and returns a list of vectors.\n",
    "embeddings = model.encode(texts_to_encode, show_progress_bar=True)\n",
    "\n",
    "print(\"Embeddings generated successfully.\")\n",
    "# The output 'embeddings' is a numpy array\n",
    "print(f\"Shape of the embeddings array: {embeddings.shape}\")"
   ]
  },
  {
   "cell_type": "markdown",
   "id": "57e43e2c-db24-4f0b-a920-71e62c679711",
   "metadata": {},
   "source": [
    "## Step 6: Add the embeddings to the DataFrame"
   ]
  },
  {
   "cell_type": "code",
   "execution_count": 14,
   "id": "29e77595-eeb8-4497-8188-bbb80ae2b137",
   "metadata": {},
   "outputs": [
    {
     "name": "stdout",
     "output_type": "stream",
     "text": [
      "\n",
      "Final DataFrame with movie embeddings:\n",
      "   movieId                               title  \\\n",
      "0        1                    Toy Story (1995)   \n",
      "1        2                      Jumanji (1995)   \n",
      "2        3             Grumpier Old Men (1995)   \n",
      "3        4            Waiting to Exhale (1995)   \n",
      "4        5  Father of the Bride Part II (1995)   \n",
      "\n",
      "                                     movie_embedding  \n",
      "0  [-0.059929866, -0.050398782, 0.1151624, -0.023...  \n",
      "1  [-0.025187103, 0.038099773, 0.05451808, -0.057...  \n",
      "2  [-0.073277004, -0.04749465, -0.051540796, -0.0...  \n",
      "3  [-0.10815668, -0.067874506, -0.033551343, -0.0...  \n",
      "4  [-0.035251174, -0.011975601, -0.030163156, -0....  \n"
     ]
    }
   ],
   "source": [
    "# It's often easier to work with lists in pandas columns than numpy arrays.\n",
    "movies_v2_df['movie_embedding'] = list(embeddings)\n",
    "\n",
    "print(\"\\nFinal DataFrame with movie embeddings:\")\n",
    "# Displaying the head, but showing the embedding vector (384 values) for the first movies\n",
    "print(movies_v2_df[['movieId', 'title', 'movie_embedding']].head())"
   ]
  },
  {
   "cell_type": "code",
   "execution_count": 15,
   "id": "48d6d026-1d1e-490a-8bd5-a7f08d2323b9",
   "metadata": {},
   "outputs": [
    {
     "name": "stdout",
     "output_type": "stream",
     "text": [
      "\n",
      "Sanity check: The dimension of a single movie embedding is: 384\n",
      "Dimension matches the model output. Ready for similarities\n"
     ]
    }
   ],
   "source": [
    "#\n",
    "# Sanity Check: Verify the dimension of a single embedding\n",
    "#\n",
    "first_embedding = movies_v2_df['movie_embedding'].iloc[0]\n",
    "print(f\"\\nSanity check: The dimension of a single movie embedding is: {len(first_embedding)}\")\n",
    "if len(first_embedding) == embeddings.shape[1]:\n",
    "    print(\"Dimension matches the model output. Ready for similarities\")"
   ]
  },
  {
   "cell_type": "markdown",
   "id": "06199709-160a-4dee-a5f3-f14949fc3b4e",
   "metadata": {},
   "source": [
    "## Step 7: Recommend movies similar to a specific movie"
   ]
  },
  {
   "cell_type": "code",
   "execution_count": 16,
   "id": "ee82a92c-de4a-4edc-8dc6-6a73296d5e91",
   "metadata": {},
   "outputs": [
    {
     "name": "stdout",
     "output_type": "stream",
     "text": [
      "--------------------------------------------------\n",
      "Finding top 5 similar movies for: 'Apocalypse Now (1979)'\n",
      "  - [REC] 4: Apocalypse (2014) (Similarity: 0.6855)\n",
      "  - The Apocalypse (1997) (Similarity: 0.6747)\n",
      "  - X-Men: Apocalypse (2016) (Similarity: 0.6577)\n",
      "  - LA Apocalypse (2014) (Similarity: 0.6536)\n",
      "  - Music and Apocalypse (2019) (Similarity: 0.6533)\n",
      "--------------------------------------------------\n",
      "--------------------------------------------------\n",
      "Finding top 5 similar movies for: 'Arrival (2016)'\n",
      "  - Arrival, The (1996) (Similarity: 0.7140)\n",
      "  - Approaching the Unknown (2016) (Similarity: 0.6965)\n",
      "  - The Arrival (2017) (Similarity: 0.6893)\n",
      "  - Alien Expedition (2018) (Similarity: 0.6681)\n",
      "  - Conspiracy Encounters (2016) (Similarity: 0.6620)\n",
      "--------------------------------------------------\n",
      "--------------------------------------------------\n",
      "Finding top 5 similar movies for: 'Inception (2010)'\n",
      "  - The Edge of Dreaming (2010) (Similarity: 0.6904)\n",
      "  - 2012: An Awakening (2009) (Similarity: 0.6797)\n",
      "  - Dreams Awake (2011) (Similarity: 0.6792)\n",
      "  - Dead Awake (2010) (Similarity: 0.6685)\n",
      "  - Locked In (2010) (Similarity: 0.6513)\n",
      "--------------------------------------------------\n",
      "--------------------------------------------------\n",
      "Finding top 5 similar movies for: 'My Life as a Dog (Mitt liv som hund) (1985)'\n",
      "  - It's a Dog's Life (1955) (Similarity: 0.6940)\n",
      "  - Dog Tags (1985) (Similarity: 0.6809)\n",
      "  - Dog (2017) (Similarity: 0.6769)\n",
      "  - Dog (2022) (Similarity: 0.6628)\n",
      "  - Year of the Dog (2007) (Similarity: 0.6467)\n",
      "--------------------------------------------------\n",
      "--------------------------------------------------\n",
      "Finding top 5 similar movies for: 'Other Guys, The (2010)'\n",
      "  - Good Guy, The (2009) (Similarity: 0.6641)\n",
      "  - The External World (2010) (Similarity: 0.6542)\n",
      "  - Extra Man, The (2010) (Similarity: 0.6523)\n",
      "  - Multi Release Movements (2010) (Similarity: 0.6512)\n",
      "  - Date Night (2010) (Similarity: 0.6368)\n",
      "--------------------------------------------------\n"
     ]
    }
   ],
   "source": [
    "def find_similar_movies(movie_title, top_n=5):\n",
    "    \"\"\"\n",
    "    Finds and prints the top N most similar movies for a given movie title.\n",
    "    \"\"\"\n",
    "    print(\"-\" * 50)\n",
    "    print(f\"Finding top {top_n} similar movies for: '{movie_title}'\")\n",
    "\n",
    "    # Step 1: Find the movie in the DataFrame to get its index\n",
    "    movie_row = movies_v2_df[movies_v2_df['title'] == movie_title]\n",
    "\n",
    "    if movie_row.empty:\n",
    "        print(f\"Movie '{movie_title}' not found in the dataset.\")\n",
    "        return\n",
    "\n",
    "    # The movie's index in the DataFrame corresponds to its row number in the embeddings array\n",
    "    movie_index = movie_row.index[0]\n",
    "    movie_vector = embeddings[movie_index].reshape(1, -1)\n",
    "\n",
    "    # Step 2: Calculate cosine similarity between this movie and all others\n",
    "    cosine_sim_scores = cosine_similarity(movie_vector, embeddings)\n",
    "\n",
    "    # Step 3: Pair each movie with its similarity score and sort them\n",
    "    sim_scores = list(enumerate(cosine_sim_scores[0]))\n",
    "    sim_scores = sorted(sim_scores, key=lambda x: x[1], reverse=True)\n",
    "\n",
    "    # Step 4: Get the top N results, excluding the first one (which is the movie itself)\n",
    "    top_movies = sim_scores[1:top_n+1]\n",
    "\n",
    "    # Step 5: Display the results\n",
    "    for i, score in top_movies:\n",
    "        similar_movie_title = movies_v2_df.iloc[i]['title']\n",
    "        print(f\"  - {similar_movie_title} (Similarity: {score:.4f})\")\n",
    "    print(\"-\" * 50)\n",
    "\n",
    "\n",
    "# List of movies we will analyze\n",
    "movies_to_analyze = [\n",
    "    'Apocalypse Now (1979)',\n",
    "    'Arrival (2016)',\n",
    "    'Inception (2010)',\n",
    "    'My Life as a Dog (Mitt liv som hund) (1985)',\n",
    "    'Other Guys, The (2010)'\n",
    "]\n",
    "\n",
    "for title in movies_to_analyze:\n",
    "    find_similar_movies(title)\n"
   ]
  },
  {
   "cell_type": "markdown",
   "id": "bb0d40ac-ff00-47db-baad-2f9592e9bf5f",
   "metadata": {},
   "source": [
    "## Conclusion\n",
    "We see that the results were a mixed bag. For 'My Life as a Dog (Mitt liv som hund) (1985)', a poignant coming-of-age drama, the model recommended Dog movies. It completely missed the metaphorical \"vibe\" and instead used the literal keyword \"Dog\". "
   ]
  },
  {
   "cell_type": "code",
   "execution_count": null,
   "id": "19dc532b-8a64-4db5-9cb7-f6b648699813",
   "metadata": {},
   "outputs": [],
   "source": []
  }
 ],
 "metadata": {
  "kernelspec": {
   "display_name": "Python 3 (ipykernel)",
   "language": "python",
   "name": "python3"
  },
  "language_info": {
   "codemirror_mode": {
    "name": "ipython",
    "version": 3
   },
   "file_extension": ".py",
   "mimetype": "text/x-python",
   "name": "python",
   "nbconvert_exporter": "python",
   "pygments_lexer": "ipython3",
   "version": "3.11.12"
  }
 },
 "nbformat": 4,
 "nbformat_minor": 5
}
